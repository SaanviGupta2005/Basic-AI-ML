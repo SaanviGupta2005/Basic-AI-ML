{
 "cells": [
  {
   "cell_type": "code",
   "execution_count": 6,
   "id": "d434b61a",
   "metadata": {},
   "outputs": [
    {
     "name": "stdout",
     "output_type": "stream",
     "text": [
      "hello\n"
     ]
    }
   ],
   "source": [
    "print(\"hello\")"
   ]
  },
  {
   "cell_type": "markdown",
   "id": "a68a8862",
   "metadata": {},
   "source": [
    "<br>\n",
    "<br>"
   ]
  },
  {
   "cell_type": "markdown",
   "id": "a58f3ac9",
   "metadata": {},
   "source": [
    "### What do you mean by third party libraries?"
   ]
  },
  {
   "cell_type": "markdown",
   "id": "5296be5e",
   "metadata": {},
   "source": [
    "Libraries which are not available internally and we have to install it using pip. Eg-> Numpy, Pandas, Matplotlib, sklearn. <br>\n",
    "Numpy is not inbuilt library of python i.e third party library which u have to install with pip command (pip install numpy)"
   ]
  },
  {
   "cell_type": "markdown",
   "id": "c033f056",
   "metadata": {},
   "source": [
    "### Difference between Numpy Pandas and Matplotlib?"
   ]
  },
  {
   "cell_type": "markdown",
   "id": "5c135c31",
   "metadata": {},
   "source": [
    "NUMPY -> Numpy stands for numerical python library. It is a fundamental pyhon library complex numerical operations will be done by numpy.\n",
    "Numpy is open source library.\n",
    "\n",
    "PANDAS -> Pandas third vendor library is used for processing the data in the form of well structured form or represent the data in the form of tables.\n",
    "\n",
    "MATPLOTLIB -> Matplotlib library is used for creating/plotting the graphs."
   ]
  },
  {
   "cell_type": "markdown",
   "id": "d71ef635",
   "metadata": {},
   "source": [
    "### In which lang numpy is written?"
   ]
  },
  {
   "cell_type": "markdown",
   "id": "197d11fa",
   "metadata": {},
   "source": [
    "Python and C"
   ]
  },
  {
   "cell_type": "markdown",
   "id": "6037564e",
   "metadata": {},
   "source": [
    "<br>\n",
    "<br>"
   ]
  },
  {
   "cell_type": "markdown",
   "id": "1afe90d5",
   "metadata": {},
   "source": [
    "<h3> Creating Diagnol Matrix</h3>"
   ]
  },
  {
   "cell_type": "code",
   "execution_count": 10,
   "id": "59ebdd01",
   "metadata": {},
   "outputs": [
    {
     "data": {
      "text/plain": [
       "array([[1, 0, 0],\n",
       "       [0, 1, 0],\n",
       "       [0, 0, 1]])"
      ]
     },
     "execution_count": 10,
     "metadata": {},
     "output_type": "execute_result"
    }
   ],
   "source": [
    "np.eye(3,3,dtype='int32')"
   ]
  },
  {
   "cell_type": "markdown",
   "id": "f9437869",
   "metadata": {},
   "source": [
    "<h3>Creating Identity Matrix </h3>"
   ]
  },
  {
   "cell_type": "code",
   "execution_count": 21,
   "id": "913d633b",
   "metadata": {},
   "outputs": [
    {
     "data": {
      "text/plain": [
       "array([[1, 0, 0],\n",
       "       [0, 1, 0],\n",
       "       [0, 0, 1]])"
      ]
     },
     "execution_count": 21,
     "metadata": {},
     "output_type": "execute_result"
    }
   ],
   "source": [
    "np.identity(3,dtype='int32')"
   ]
  },
  {
   "cell_type": "markdown",
   "id": "633f4175",
   "metadata": {},
   "source": [
    "<h3>Creating Zero Matrix </h3>"
   ]
  },
  {
   "cell_type": "code",
   "execution_count": 30,
   "id": "e4dacf4b",
   "metadata": {},
   "outputs": [
    {
     "data": {
      "text/plain": [
       "array([[0, 0, 0],\n",
       "       [0, 0, 0],\n",
       "       [0, 0, 0]])"
      ]
     },
     "execution_count": 30,
     "metadata": {},
     "output_type": "execute_result"
    }
   ],
   "source": [
    "np.zeros((3,3),dtype='int32')"
   ]
  },
  {
   "cell_type": "markdown",
   "id": "2be428ab",
   "metadata": {},
   "source": [
    "<h3>Unit Matrix</h3>"
   ]
  },
  {
   "cell_type": "code",
   "execution_count": 23,
   "id": "6979df12",
   "metadata": {},
   "outputs": [
    {
     "data": {
      "text/plain": [
       "array([[1, 1, 1],\n",
       "       [1, 1, 1],\n",
       "       [1, 1, 1]])"
      ]
     },
     "execution_count": 23,
     "metadata": {},
     "output_type": "execute_result"
    }
   ],
   "source": [
    "np.ones([3,3],dtype='int32')"
   ]
  },
  {
   "cell_type": "markdown",
   "id": "3ba78405",
   "metadata": {},
   "source": [
    "<h3>Convert list into an array</h3>"
   ]
  },
  {
   "cell_type": "code",
   "execution_count": 2,
   "id": "5321f637",
   "metadata": {},
   "outputs": [
    {
     "name": "stdout",
     "output_type": "stream",
     "text": [
      "[1 2 3 4]\n",
      "<class 'numpy.ndarray'>\n"
     ]
    }
   ],
   "source": [
    "import numpy as np\n",
    "\n",
    "list = [1,2,3,4]\n",
    "\n",
    "#np.array() converts list into array\n",
    "\n",
    "arr = np.array(list)\n",
    "print(arr)\n",
    "\n",
    "print(type(arr))"
   ]
  },
  {
   "cell_type": "markdown",
   "id": "4f501d0e",
   "metadata": {},
   "source": [
    "<h3>Checking dimensions of different array</h3>"
   ]
  },
  {
   "cell_type": "code",
   "execution_count": 5,
   "id": "429c0cee",
   "metadata": {},
   "outputs": [
    {
     "name": "stdout",
     "output_type": "stream",
     "text": [
      "0\n",
      "1\n",
      "2\n",
      "3\n"
     ]
    }
   ],
   "source": [
    "a = np.array(42)\n",
    "b = np.array([1, 2, 3, 4, 5])\n",
    "c = np.array([[1, 2, 3], [4, 5, 6]])\n",
    "d = np.array([[[1, 2, 3], [4, 5, 6]], [[1, 2, 3], [4, 5, 6]]])\n",
    "\n",
    "print(a.ndim)\n",
    "print(b.ndim)\n",
    "print(c.ndim)\n",
    "print(d.ndim)"
   ]
  },
  {
   "cell_type": "code",
   "execution_count": 10,
   "id": "c67c0004",
   "metadata": {},
   "outputs": [
    {
     "name": "stdout",
     "output_type": "stream",
     "text": [
      "10\n",
      "20\n",
      "30\n",
      "40\n",
      "50\n",
      "[10, 20, 30, 40, 50]\n",
      "<class 'list'>\n",
      "[10 20 30 40 50]\n",
      "<class 'numpy.ndarray'>\n"
     ]
    }
   ],
   "source": [
    "t=[]\n",
    "for i in range(5):\n",
    "    x=int(input())\n",
    "    t.append(x)\n",
    "print(t)\n",
    "print(type(t))\n",
    "\n",
    "arr1 = np.array(t)\n",
    "print(arr1)\n",
    "print(type(arr1))"
   ]
  },
  {
   "cell_type": "markdown",
   "id": "82eed58a",
   "metadata": {},
   "source": [
    "<h3>2D Array</h3>"
   ]
  },
  {
   "cell_type": "code",
   "execution_count": 16,
   "id": "1556c87b",
   "metadata": {},
   "outputs": [
    {
     "name": "stdout",
     "output_type": "stream",
     "text": [
      "[[1 2 3]\n",
      " [4 5 6]]\n",
      "3\n"
     ]
    }
   ],
   "source": [
    "list1 = [1,2,3]\n",
    "list2 = [4,5,6]\n",
    "arr2 = np.array([list1,list2])\n",
    "print(arr2)\n",
    "print(arr2[0][-1])"
   ]
  },
  {
   "cell_type": "markdown",
   "id": "722451b1",
   "metadata": {},
   "source": [
    "<h3>Array Having 5 dimensions</h3>"
   ]
  },
  {
   "cell_type": "code",
   "execution_count": 17,
   "id": "a5156840",
   "metadata": {},
   "outputs": [
    {
     "name": "stdout",
     "output_type": "stream",
     "text": [
      "[[[[[1 2 3 4 5]]]]]\n",
      "5\n"
     ]
    }
   ],
   "source": [
    "arr3 = np.array([1,2,3,4,5], ndmin =5)\n",
    "print(arr3)\n",
    "print(arr3.ndim)"
   ]
  },
  {
   "cell_type": "markdown",
   "id": "3c9104b5",
   "metadata": {},
   "source": [
    "<h3>Checking datatype of an array</h3>"
   ]
  },
  {
   "cell_type": "markdown",
   "id": "8c7d5312",
   "metadata": {},
   "source": [
    "Below is a list of all data types in NumPy and the characters used to represent them.\n",
    "<br>\n",
    "i - integer<br>\n",
    "b - boolean<br>\n",
    "u - unsigned integer<br>\n",
    "f - float<br>\n",
    "c - complex float<br>\n",
    "m - timedelta<br>\n",
    "M - datetime<br>\n",
    "O - object<br>\n",
    "S - string<br>\n",
    "U - unicode string<br>\n",
    "V - fixed chunk of memory for other type ( void )<br>\n"
   ]
  },
  {
   "cell_type": "code",
   "execution_count": 18,
   "id": "1e79ae95",
   "metadata": {},
   "outputs": [
    {
     "name": "stdout",
     "output_type": "stream",
     "text": [
      "int32\n"
     ]
    }
   ],
   "source": [
    "arr = np.array([1, 2, 3, 4])\n",
    "print(arr.dtype)"
   ]
  },
  {
   "cell_type": "code",
   "execution_count": 20,
   "id": "9e16170e",
   "metadata": {},
   "outputs": [
    {
     "name": "stdout",
     "output_type": "stream",
     "text": [
      "<U6\n"
     ]
    }
   ],
   "source": [
    "import numpy as np\n",
    "arr = np.array(['apple', 'banana', 'cherry'])\n",
    "print(arr.dtype)"
   ]
  },
  {
   "cell_type": "code",
   "execution_count": 21,
   "id": "8f831f58",
   "metadata": {},
   "outputs": [
    {
     "name": "stdout",
     "output_type": "stream",
     "text": [
      "[b'1' b'2' b'3' b'4']\n",
      "|S1\n"
     ]
    }
   ],
   "source": [
    "import numpy as np\n",
    "arr = np.array([1, 2, 3, 4], dtype='S')\n",
    "print(arr)\n",
    "print(arr.dtype)"
   ]
  },
  {
   "cell_type": "code",
   "execution_count": 7,
   "id": "97e44939",
   "metadata": {},
   "outputs": [
    {
     "name": "stdout",
     "output_type": "stream",
     "text": [
      "[2 4 6]\n",
      "[3 4 5]\n",
      "[-1  0  1]\n",
      "[0.5 1.  1.5]\n"
     ]
    }
   ],
   "source": [
    "arr=np.array([1,2,3])\n",
    "print(arr*2)\n",
    "print(arr+2)\n",
    "print(arr-2)\n",
    "print(arr/2)"
   ]
  },
  {
   "cell_type": "code",
   "execution_count": 27,
   "id": "f6f482e1",
   "metadata": {},
   "outputs": [
    {
     "name": "stdout",
     "output_type": "stream",
     "text": [
      "26\n"
     ]
    }
   ],
   "source": [
    "list1=[1,2,3]\n",
    "list2=[3,4,5]\n",
    "sum=0\n",
    "for i in range(3):\n",
    "    sum=sum+list1[i]*list2[i]\n",
    "print(sum)"
   ]
  },
  {
   "cell_type": "code",
   "execution_count": 46,
   "id": "5037a443",
   "metadata": {},
   "outputs": [
    {
     "name": "stdout",
     "output_type": "stream",
     "text": [
      "1 3\n",
      "2 4\n",
      "3 5\n"
     ]
    }
   ],
   "source": [
    "list1=[1,2,3]\n",
    "list2=[3,4,5]\n",
    "for i in range(3):\n",
    "    print(list1[i], list2[i])"
   ]
  },
  {
   "cell_type": "markdown",
   "id": "2768cf62",
   "metadata": {},
   "source": [
    "### Zip Method (For tuples pairing)"
   ]
  },
  {
   "cell_type": "code",
   "execution_count": 49,
   "id": "7b84becb",
   "metadata": {},
   "outputs": [
    {
     "name": "stdout",
     "output_type": "stream",
     "text": [
      "<zip object at 0x000001E0253DF400>\n",
      "((1, 3), (2, 4), (3, 5))\n"
     ]
    }
   ],
   "source": [
    "a=zip(list1,list2)\n",
    "print(tuple(a))"
   ]
  },
  {
   "cell_type": "markdown",
   "id": "6d5a2c60",
   "metadata": {},
   "source": [
    "# Linear Algebra Function\n",
    "Operators\tDescriptions<br>\n",
    "dot()\tcalculates product of two arrays<br>\n",
    "inner()\tcalculates inner product of arrays<br>\n",
    "outer()\tcalculates outer product of arrays<br>\n",
    "det()\tcalculates determinant of a matrix<br>\n",
    "solve()\tsolves linear matrix equation<br>\n",
    "inv()\tcalculates the multiplicative inverse of the matrix<br>\n",
    "trace()\tcalculates the sum of diagonal elements<br>"
   ]
  },
  {
   "cell_type": "markdown",
   "id": "45e52bc1",
   "metadata": {},
   "source": [
    "## dot() Function\n",
    "We can use the dot() function available in NumPy's linear algebra module to calculate the product of two arrays."
   ]
  },
  {
   "cell_type": "code",
   "execution_count": 17,
   "id": "20742149",
   "metadata": {},
   "outputs": [
    {
     "name": "stdout",
     "output_type": "stream",
     "text": [
      "44\n"
     ]
    }
   ],
   "source": [
    "import numpy as np\n",
    "\n",
    "array1 = np.array([1, 3, 5])\n",
    "array2 = np.array([2, 4, 6])\n",
    "\n",
    "# use of dot() to perform array multiplication\n",
    "result = np.dot(array1, array2)\n",
    "\n",
    "print(result)"
   ]
  },
  {
   "cell_type": "markdown",
   "id": "758d6b06",
   "metadata": {},
   "source": [
    "In this example, the dot(array1, array2) function computes the dot product of array1 and array2, which is equal to 1X2 + 3X4 + 5X6 = 44."
   ]
  },
  {
   "cell_type": "markdown",
   "id": "91a9164a",
   "metadata": {},
   "source": [
    "## inner() Function\n",
    "In NumPy, the inner() function computes the inner product of two arrays, which is the sum of the products of their corresponding entries."
   ]
  },
  {
   "cell_type": "code",
   "execution_count": 18,
   "id": "c555277d",
   "metadata": {},
   "outputs": [
    {
     "name": "stdout",
     "output_type": "stream",
     "text": [
      "[[14 30]\n",
      " [38 86]]\n"
     ]
    }
   ],
   "source": [
    "import numpy as np\n",
    "\n",
    "array1 = np.array([[1, 3], \n",
    "                   [5, 7]])\n",
    "array2 = np.array([[2, 4], \n",
    "                   [6, 8]])\n",
    "\n",
    "# inner() for 2D arrays\n",
    "result = np.inner(array1, array2)\n",
    "\n",
    "print(result)"
   ]
  },
  {
   "cell_type": "markdown",
   "id": "63d772d7",
   "metadata": {},
   "source": [
    "n the above example, inner() first flattens 2D arrays to 1D arrays and then computes the inner product of those flattened arrays.\n",
    "\n",
    "The resulting 2x2 matrix is the reshaped version of the flattened result.\n",
    "\n",
    "Here, the inner product is calculated as:\n",
    "\n",
    "1X2+3X4        1X6+3X8\n",
    "5X2+7X4        5X6+7X8\n",
    "Note: For 1D arrays, inner() is equivalent to dot().\n"
   ]
  },
  {
   "cell_type": "markdown",
   "id": "597bbfeb",
   "metadata": {},
   "source": [
    "## outer() function\n",
    "The outer() function in NumPy computes the outer product of two arrays, which is the product of all possible pairs of their entries."
   ]
  },
  {
   "cell_type": "code",
   "execution_count": 19,
   "id": "03aa3f86",
   "metadata": {},
   "outputs": [
    {
     "name": "stdout",
     "output_type": "stream",
     "text": [
      "[[ 2  4  6]\n",
      " [ 6 12 18]\n",
      " [10 20 30]]\n"
     ]
    }
   ],
   "source": [
    "import numpy as np\n",
    "\n",
    "array1 = np.array([1, 3, 5])\n",
    "array2 = np.array([2, 4, 6])\n",
    "\n",
    "# outer() to perform outer multiplication\n",
    "result = np.outer(array1, array2)\n",
    "\n",
    "print(result)"
   ]
  },
  {
   "cell_type": "markdown",
   "id": "2815f9e7",
   "metadata": {},
   "source": [
    "Here, the outer product is calculated as:\n",
    "\n",
    "1*2       1*4       1*6        \n",
    "3*2      3*4       3*6\n",
    "5*2      5*4       5*6\n"
   ]
  },
  {
   "cell_type": "markdown",
   "id": "8477976d",
   "metadata": {},
   "source": [
    "## det() Function\n",
    "In NumPy, we use the det() function from the NumPy linalg module to calculate the determinant of a square matrix."
   ]
  },
  {
   "cell_type": "code",
   "execution_count": 20,
   "id": "627e9338",
   "metadata": {},
   "outputs": [
    {
     "name": "stdout",
     "output_type": "stream",
     "text": [
      "-7.999999999999998\n"
     ]
    }
   ],
   "source": [
    "import numpy as np\n",
    "\n",
    "# define a square matrix\n",
    "array1 = np.array([[1, 3], \n",
    "                  [5, 7]])\n",
    "\n",
    "# compute the determinant of array1\n",
    "result = np.linalg.det(array1)\n",
    "\n",
    "\n",
    "print(result)"
   ]
  },
  {
   "cell_type": "markdown",
   "id": "d417bc38",
   "metadata": {},
   "source": [
    "Here, we have used the det() function from the linalg module to\n",
    " calculate the determinant of the square matrix named array1."
   ]
  },
  {
   "cell_type": "markdown",
   "id": "4213bc79",
   "metadata": {},
   "source": [
    "## solve() Function\n",
    "In NumPy, we use the solve() function to solve a system of linear equations.\n",
    "\n",
    "For a given matrix A and a vector b, solve(A, b) finds the solution vector x that satisfies the equation Ax = b.\n"
   ]
  },
  {
   "cell_type": "code",
   "execution_count": 21,
   "id": "60cc2509",
   "metadata": {},
   "outputs": [
    {
     "name": "stdout",
     "output_type": "stream",
     "text": [
      "[-2.    2.25]\n"
     ]
    }
   ],
   "source": [
    "import numpy as np\n",
    "\n",
    "# define the coefficient matrix A\n",
    "A = np.array([[2, 4], \n",
    "             [6, 8]])\n",
    "\n",
    "# define the constant vector b\n",
    "b = np.array([5, 6])\n",
    "\n",
    "# solve the system of linear equations Ax = b\n",
    "x = np.linalg.solve(A, b)\n",
    "\n",
    "print(x)"
   ]
  },
  {
   "cell_type": "markdown",
   "id": "704a131f",
   "metadata": {},
   "source": [
    "In this example, we have used the solve() function from the linalg module to solve the system of linear equations.\n",
    "\n",
    "Here, the output is [-2. 2.25], which is the solution to the system of linear equations 2x + 4y = 5 and 6x + 8y = 6.\n",
    "\n",
    "Note: The solve() function only works for square matrices, and it assumes that the matrix A has a non-zero determinant, \n",
    "else solve() will raise a LinAlgError exception."
   ]
  },
  {
   "cell_type": "markdown",
   "id": "f43b2b28",
   "metadata": {},
   "source": [
    "## inv() Function\n",
    "We use the inv() function from the linalg module in NumPy to find the inverse of a square matrix."
   ]
  },
  {
   "cell_type": "code",
   "execution_count": 22,
   "id": "af03871b",
   "metadata": {},
   "outputs": [
    {
     "name": "stdout",
     "output_type": "stream",
     "text": [
      "[[-1.    0.5 ]\n",
      " [ 0.75 -0.25]]\n"
     ]
    }
   ],
   "source": [
    "import numpy as np\n",
    "\n",
    "# define a 2x2 matrix\n",
    "array1 = np.array([[2, 4], \n",
    "                  [6, 8]])\n",
    "\n",
    "# compute the inverse of the matrix\n",
    "result = np.linalg.inv(array1)\n",
    "\n",
    "print(result)"
   ]
  },
  {
   "cell_type": "markdown",
   "id": "7453d270",
   "metadata": {},
   "source": [
    "Here, we have used the linalg.inv() function to calculate the inverse of the array1 matrix."
   ]
  },
  {
   "cell_type": "markdown",
   "id": "15f73269",
   "metadata": {},
   "source": [
    "## trace() Function\n",
    "In NumPy, we use the trace() function to compute the sum of the diagonal elements of a matrix."
   ]
  },
  {
   "cell_type": "code",
   "execution_count": 23,
   "id": "e8932735",
   "metadata": {},
   "outputs": [
    {
     "name": "stdout",
     "output_type": "stream",
     "text": [
      "12\n"
     ]
    }
   ],
   "source": [
    "import numpy as np\n",
    "\n",
    "# define a 3x3 matrix\n",
    "array1 = np.array([[6, 3, 5], \n",
    "                   [9, 2, 1], \n",
    "                   [7, 8, 4]])\n",
    "\n",
    "# compute the trace of the matrix\n",
    "result = np.trace(array1)\n",
    "\n",
    "print(result)"
   ]
  },
  {
   "cell_type": "markdown",
   "id": "2e4bfaa3",
   "metadata": {},
   "source": [
    "In this example, the diagonal elements of the matrix are 6, 2, and 4, so the sum of these elements is 12. So, \n",
    "the trace() function returns this value as the output"
   ]
  },
  {
   "cell_type": "markdown",
   "id": "c9fc1f33",
   "metadata": {},
   "source": [
    "## Compute Median for Odd Number of Elements in 1d array"
   ]
  },
  {
   "cell_type": "code",
   "execution_count": 25,
   "id": "250d775e",
   "metadata": {},
   "outputs": [
    {
     "name": "stdout",
     "output_type": "stream",
     "text": [
      "3.0\n"
     ]
    }
   ],
   "source": [
    "#create a 1D array with 5 elements\n",
    "array1 = np.array([1, 2, 3, 4, 5])\n",
    "                                                                                                           \n",
    "# calculate the median\n",
    "median = np.median(array1)\n",
    "\n",
    "print(median)"
   ]
  },
  {
   "cell_type": "markdown",
   "id": "f1d430e7",
   "metadata": {},
   "source": [
    "## Compute the median of a 2D array"
   ]
  },
  {
   "cell_type": "code",
   "execution_count": 26,
   "id": "317b5348",
   "metadata": {},
   "outputs": [
    {
     "name": "stdout",
     "output_type": "stream",
     "text": [
      "Median along horizontal axis : [ 4. 10. 16.]\n",
      "Median along vertical axis: [ 8. 10. 12.]\n",
      "Median of entire array: 10.0\n"
     ]
    }
   ],
   "source": [
    "import numpy as np\n",
    "\n",
    "# create a 2D array\n",
    "array1 = np.array([[2, 4, 6], \n",
    "                   [8, 10, 12], \n",
    "                   [14, 16, 18]])\n",
    "\n",
    "# compute median along horizontal axis \n",
    "result1 = np.median(array1, axis=1)\n",
    "\n",
    "print(\"Median along horizontal axis :\", result1)\n",
    "\n",
    "# compute median along vertical axis\n",
    "result2 = np.median(array1, axis=0)\n",
    "\n",
    "print(\"Median along vertical axis:\", result2)\n",
    "\n",
    "# compute median of entire array\n",
    "result3 = np.median(array1)\n",
    "\n",
    "print(\"Median of entire array:\", result3)"
   ]
  },
  {
   "cell_type": "markdown",
   "id": "c49eef9a",
   "metadata": {},
   "source": [
    "## Mean of 1d array"
   ]
  },
  {
   "cell_type": "code",
   "execution_count": 27,
   "id": "6a61a36f",
   "metadata": {},
   "outputs": [
    {
     "name": "stdout",
     "output_type": "stream",
     "text": [
      "77.2\n"
     ]
    }
   ],
   "source": [
    "import numpy as np\n",
    "\n",
    "# create a numpy array\n",
    "marks = np.array([76, 78, 81, 66, 85])\n",
    "\n",
    "# compute the mean of marks\n",
    "mean_marks = np.mean(marks)\n",
    "\n",
    "print(mean_marks)"
   ]
  },
  {
   "cell_type": "markdown",
   "id": "3294efc9",
   "metadata": {},
   "source": [
    "## Mean of NumPy 2d Array"
   ]
  },
  {
   "cell_type": "code",
   "execution_count": 31,
   "id": "91682267",
   "metadata": {},
   "outputs": [
    {
     "name": "stdout",
     "output_type": "stream",
     "text": [
      "Entire Array: 4.0\n",
      "Along Vertical Axis: [3. 5.]\n",
      "Along Horizontal Axis : [2. 6.]\n"
     ]
    }
   ],
   "source": [
    "import numpy as np\n",
    "\n",
    "# create a 2D array\n",
    "array1 = np.array([[1, 3], \n",
    "                 [5, 7]])\n",
    "\n",
    "# calculate the mean of the entire array\n",
    "result1 = np.mean(array1)\n",
    "print(\"Entire Array:\",result1)\n",
    "\n",
    "# calculate the mean along vertical axis (axis=0)\n",
    "result2 = np.mean(array1, axis=0)\n",
    "print(\"Along Vertical Axis:\",result2)\n",
    "\n",
    "# calculate the mean along horizontal axis (axis=1)\n",
    "result3 = np.mean(array1, axis=1)\n",
    "print(\"Along Horizontal Axis :\",result3)"
   ]
  },
  {
   "cell_type": "markdown",
   "id": "92cdf34e",
   "metadata": {},
   "source": [
    "## Standard Deviation of 1-d array"
   ]
  },
  {
   "cell_type": "code",
   "execution_count": 32,
   "id": "88b41b2f",
   "metadata": {},
   "outputs": [
    {
     "name": "stdout",
     "output_type": "stream",
     "text": [
      "6.368673331236263\n"
     ]
    }
   ],
   "source": [
    "#1d array\n",
    "import numpy as np\n",
    "\n",
    "# create a numpy array\n",
    "marks = np.array([76, 78, 81, 66, 85])\n",
    "\n",
    "# compute the standard deviation of marks\n",
    "std_marks = np.std(marks)\n",
    "print(std_marks)"
   ]
  },
  {
   "cell_type": "markdown",
   "id": "d5103d41",
   "metadata": {},
   "source": [
    "## Standard Deviation of a 2D array"
   ]
  },
  {
   "cell_type": "code",
   "execution_count": 33,
   "id": "2fa0f1f3",
   "metadata": {},
   "outputs": [
    {
     "name": "stdout",
     "output_type": "stream",
     "text": [
      "Standard deviation along horizontal axis: [2.86744176 3.29983165 1.24721913]\n",
      "Standard deviation  along vertical axis: [0.81649658 1.24721913 1.63299316]\n",
      "Standard deviation of entire array: 2.7666443551086073\n"
     ]
    }
   ],
   "source": [
    "import numpy as np\n",
    "\n",
    "# create a 2D array\n",
    "array1 = np.array([[2, 5, 9], \n",
    "                 [3, 8, 11], \n",
    "                 [4, 6, 7]])\n",
    "\n",
    "# compute standard deviation along horizontal axis\n",
    "result1 = np.std(array1, axis=1)\n",
    "print(\"Standard deviation along horizontal axis:\", result1)\n",
    "\n",
    "# compute standard deviation along vertical axis\n",
    "result2 = np.std(array1, axis=0)\n",
    "print(\"Standard deviation  along vertical axis:\", result2)\n",
    "\n",
    "# compute standard deviation of entire array\n",
    "result3 = np.std(array1)\n",
    "print(\"Standard deviation of entire array:\", result3)"
   ]
  },
  {
   "cell_type": "markdown",
   "id": "d2277702",
   "metadata": {},
   "source": [
    "## Percentile of NumPy Array\n",
    "In NumPy, we use the percentile() function to compute the nth percentile of a given array."
   ]
  },
  {
   "cell_type": "code",
   "execution_count": 34,
   "id": "b5ae8f3c",
   "metadata": {},
   "outputs": [
    {
     "name": "stdout",
     "output_type": "stream",
     "text": [
      "25th percentile: 5.5\n",
      "75th percentile: 14.5\n"
     ]
    }
   ],
   "source": [
    "import numpy as np\n",
    "\n",
    "# create an array\n",
    "array1 = np.array([1, 3, 5, 7, 9, 11, 13, 15, 17, 19])\n",
    "\n",
    "# compute the 25th percentile of the array\n",
    "result1 = np.percentile(array1, 25)\n",
    "print(\"25th percentile:\",result1)\n",
    "\n",
    "# compute the 75th percentile of the array\n",
    "result2 = np.percentile(array1, 75)\n",
    "print(\"75th percentile:\",result2)"
   ]
  },
  {
   "cell_type": "markdown",
   "id": "5656d570",
   "metadata": {},
   "source": [
    "## Find Minimum and Maximum Value of NumPy Array\n",
    "We use the min() and max() function in NumPy to find the minimum and maximum values in a given array."
   ]
  },
  {
   "cell_type": "code",
   "execution_count": 35,
   "id": "cbfb4842",
   "metadata": {},
   "outputs": [
    {
     "name": "stdout",
     "output_type": "stream",
     "text": [
      "Minimum value: 1\n",
      "Maximum value: 65\n"
     ]
    }
   ],
   "source": [
    "import numpy as np\n",
    "\n",
    "# create an array\n",
    "array1 = np.array([2,6,9,15,17,22,65,1,62])\n",
    "\n",
    "# find the minimum value of the array\n",
    "min_val = np.min(array1)\n",
    "\n",
    "# find the maximum value of the array\n",
    "max_val = np.max(array1)\n",
    "\n",
    "# print the results\n",
    "print(\"Minimum value:\", min_val)\n",
    "print(\"Maximum value:\", max_val)"
   ]
  },
  {
   "cell_type": "markdown",
   "id": "6f6f9344",
   "metadata": {},
   "source": [
    "# PANDAS"
   ]
  },
  {
   "cell_type": "markdown",
   "id": "d68f77d8",
   "metadata": {},
   "source": [
    "Pandas is an open source data analysis  in python<br>\n",
    "2 types of data structures in pandas-><br>\n",
    "1.) SERIES ---> 1D with single row or column<br>\n",
    "2.) DATAFRAMES ---> 2D tabular representation containing rows nd columns<br>"
   ]
  },
  {
   "cell_type": "code",
   "execution_count": 1,
   "id": "fa15892a",
   "metadata": {},
   "outputs": [
    {
     "name": "stdout",
     "output_type": "stream",
     "text": [
      "mustang\n"
     ]
    }
   ],
   "source": [
    "import pandas as pd\n",
    "thisdict = {\n",
    "    \"brand\" : \"Fords\",\n",
    "    \"model\": \"mustang\",\n",
    "    \"year\": 1964\n",
    "}\n",
    "print(thisdict[\"model\"])"
   ]
  },
  {
   "cell_type": "code",
   "execution_count": 6,
   "id": "e97181ce",
   "metadata": {},
   "outputs": [
    {
     "name": "stdout",
     "output_type": "stream",
     "text": [
      "1\n",
      "Canada\n"
     ]
    }
   ],
   "source": [
    "import pandas as pd\n",
    "dict={\n",
    "    93:\"Afganistan\",\n",
    "    355:\"Albania\",\n",
    "    672:\"Antartica\",\n",
    "    54:\"Argentina\",\n",
    "    61:\"Australia\",\n",
    "    43:\"Austria\",\n",
    "    880:\"Bangladesh\",\n",
    "    32:\"Belgium\",\n",
    "    975:\"Bhutan\",\n",
    "    55:\"Brazil\",\n",
    "    1:\"Canada\",\n",
    "    86:\"China\",\n",
    "    679:\"Fuji\",\n",
    "    358:\"Finland\",\n",
    "    33:\"France\",\n",
    "    995:\"Georgia\",\n",
    "    49:\"Germany\",\n",
    "    30:\"Greece\",\n",
    "    299:\"Greenland\",\n",
    "    852:\"Hong Kong\",\n",
    "    36:\"Hungary\",\n",
    "    354:\"Iceland\",\n",
    "    91:\"India\"\n",
    "}\n",
    "cn=int(input())\n",
    "print(dict[cn])"
   ]
  },
  {
   "cell_type": "markdown",
   "id": "0c9187e8",
   "metadata": {},
   "source": [
    "### Dictionary\n",
    "We have list ,arrays and dictionary are objects in python. Arrays and List internally using array and double linked list data structure but in case of dictionary in python, dictionary internally use map data structure. Map works on key value pairs. If i want to retrieve the elements from array and list, we need index value. On the behalf of indexing we are inserting, deleting, updating elements in array and list but in case of dict we retrieve the data on behalf of key.If i want to retrieve elements, delete ,insert or modify elements in dict/map, we need key. In map/dict key will never be a duplicate but values can be duplicate. In real time applications we are retrieving the elements from the dropdown. For ex-> Country Code dropdown<br>\n",
    "We specially recommended such type of task to map/dict data structure."
   ]
  },
  {
   "cell_type": "markdown",
   "id": "68ae0600",
   "metadata": {},
   "source": [
    "Give a written assignment on map data structures<br>\n",
    "Define all the diagram representing the map algorithm and data structure<br>\n",
    "What is the role of hash table in map concept<br>"
   ]
  },
  {
   "cell_type": "markdown",
   "id": "3abda2a4",
   "metadata": {},
   "source": [
    "# DATAFRAME"
   ]
  },
  {
   "cell_type": "code",
   "execution_count": 18,
   "id": "9a168233",
   "metadata": {},
   "outputs": [
    {
     "name": "stdout",
     "output_type": "stream",
     "text": [
      "{'name': ['harry', 'ramesh', 'sita', 'rohan'], 'location': ['punjab', 'chandigarh', 'bihar', 'mumbai'], 'marks': [96, 94, 96, 98]}\n"
     ]
    },
    {
     "data": {
      "text/html": [
       "<div>\n",
       "<style scoped>\n",
       "    .dataframe tbody tr th:only-of-type {\n",
       "        vertical-align: middle;\n",
       "    }\n",
       "\n",
       "    .dataframe tbody tr th {\n",
       "        vertical-align: top;\n",
       "    }\n",
       "\n",
       "    .dataframe thead th {\n",
       "        text-align: right;\n",
       "    }\n",
       "</style>\n",
       "<table border=\"1\" class=\"dataframe\">\n",
       "  <thead>\n",
       "    <tr style=\"text-align: right;\">\n",
       "      <th></th>\n",
       "      <th>name</th>\n",
       "      <th>location</th>\n",
       "      <th>marks</th>\n",
       "    </tr>\n",
       "  </thead>\n",
       "  <tbody>\n",
       "    <tr>\n",
       "      <th>0</th>\n",
       "      <td>harry</td>\n",
       "      <td>punjab</td>\n",
       "      <td>96</td>\n",
       "    </tr>\n",
       "    <tr>\n",
       "      <th>1</th>\n",
       "      <td>ramesh</td>\n",
       "      <td>chandigarh</td>\n",
       "      <td>94</td>\n",
       "    </tr>\n",
       "    <tr>\n",
       "      <th>2</th>\n",
       "      <td>sita</td>\n",
       "      <td>bihar</td>\n",
       "      <td>96</td>\n",
       "    </tr>\n",
       "    <tr>\n",
       "      <th>3</th>\n",
       "      <td>rohan</td>\n",
       "      <td>mumbai</td>\n",
       "      <td>98</td>\n",
       "    </tr>\n",
       "  </tbody>\n",
       "</table>\n",
       "</div>"
      ],
      "text/plain": [
       "     name    location  marks\n",
       "0   harry      punjab     96\n",
       "1  ramesh  chandigarh     94\n",
       "2    sita       bihar     96\n",
       "3   rohan      mumbai     98"
      ]
     },
     "execution_count": 18,
     "metadata": {},
     "output_type": "execute_result"
    }
   ],
   "source": [
    "import pandas as pd\n",
    "dict1={\n",
    "    \"name\":['harry','ramesh','sita','rohan'],\n",
    "    \"location\":['punjab','chandigarh','bihar','mumbai'],\n",
    "    \"marks\":[96,94,96,98]\n",
    "}\n",
    "print(dict1)\n",
    "df1 = pd.DataFrame(dict1)\n",
    "df1"
   ]
  },
  {
   "cell_type": "code",
   "execution_count": 19,
   "id": "a13e5b42",
   "metadata": {},
   "outputs": [
    {
     "name": "stdout",
     "output_type": "stream",
     "text": [
      "harry\n",
      "harry\n"
     ]
    }
   ],
   "source": [
    "print(df1.iloc[0,0])        #Integer based Indexing\n",
    "print(df1.loc[0]['name'])    #Label based Indexing"
   ]
  },
  {
   "cell_type": "markdown",
   "id": "cb3d69fa",
   "metadata": {},
   "source": [
    "## From csv file to dataframe"
   ]
  },
  {
   "cell_type": "code",
   "execution_count": 6,
   "id": "89ea7ad1",
   "metadata": {},
   "outputs": [
    {
     "data": {
      "text/html": [
       "<div>\n",
       "<style scoped>\n",
       "    .dataframe tbody tr th:only-of-type {\n",
       "        vertical-align: middle;\n",
       "    }\n",
       "\n",
       "    .dataframe tbody tr th {\n",
       "        vertical-align: top;\n",
       "    }\n",
       "\n",
       "    .dataframe thead th {\n",
       "        text-align: right;\n",
       "    }\n",
       "</style>\n",
       "<table border=\"1\" class=\"dataframe\">\n",
       "  <thead>\n",
       "    <tr style=\"text-align: right;\">\n",
       "      <th></th>\n",
       "      <th>first_name</th>\n",
       "      <th>last_name</th>\n",
       "      <th>company_name</th>\n",
       "      <th>address</th>\n",
       "      <th>city</th>\n",
       "      <th>county</th>\n",
       "      <th>state</th>\n",
       "      <th>zip</th>\n",
       "      <th>phone1</th>\n",
       "      <th>phone2</th>\n",
       "      <th>email</th>\n",
       "      <th>web</th>\n",
       "    </tr>\n",
       "  </thead>\n",
       "  <tbody>\n",
       "    <tr>\n",
       "      <th>0</th>\n",
       "      <td>James</td>\n",
       "      <td>Butt</td>\n",
       "      <td>Benton, John B Jr</td>\n",
       "      <td>6649 N Blue Gum St</td>\n",
       "      <td>New Orleans</td>\n",
       "      <td>Orleans</td>\n",
       "      <td>LA</td>\n",
       "      <td>70116</td>\n",
       "      <td>504-621-8927</td>\n",
       "      <td>504-845-1427</td>\n",
       "      <td>jbutt@gmail.com</td>\n",
       "      <td>http://www.bentonjohnbjr.com</td>\n",
       "    </tr>\n",
       "    <tr>\n",
       "      <th>1</th>\n",
       "      <td>Josephine</td>\n",
       "      <td>Darakjy</td>\n",
       "      <td>Chanay, Jeffrey A Esq</td>\n",
       "      <td>4 B Blue Ridge Blvd</td>\n",
       "      <td>Brighton</td>\n",
       "      <td>Livingston</td>\n",
       "      <td>MI</td>\n",
       "      <td>48116</td>\n",
       "      <td>810-292-9388</td>\n",
       "      <td>810-374-9840</td>\n",
       "      <td>josephine_darakjy@darakjy.org</td>\n",
       "      <td>http://www.chanayjeffreyaesq.com</td>\n",
       "    </tr>\n",
       "    <tr>\n",
       "      <th>2</th>\n",
       "      <td>Art</td>\n",
       "      <td>Venere</td>\n",
       "      <td>Chemel, James L Cpa</td>\n",
       "      <td>8 W Cerritos Ave #54</td>\n",
       "      <td>Bridgeport</td>\n",
       "      <td>Gloucester</td>\n",
       "      <td>NJ</td>\n",
       "      <td>8014</td>\n",
       "      <td>856-636-8749</td>\n",
       "      <td>856-264-4130</td>\n",
       "      <td>art@venere.org</td>\n",
       "      <td>http://www.chemeljameslcpa.com</td>\n",
       "    </tr>\n",
       "    <tr>\n",
       "      <th>3</th>\n",
       "      <td>Lenna</td>\n",
       "      <td>Paprocki</td>\n",
       "      <td>Feltz Printing Service</td>\n",
       "      <td>639 Main St</td>\n",
       "      <td>Anchorage</td>\n",
       "      <td>Anchorage</td>\n",
       "      <td>AK</td>\n",
       "      <td>99501</td>\n",
       "      <td>907-385-4412</td>\n",
       "      <td>907-921-2010</td>\n",
       "      <td>lpaprocki@hotmail.com</td>\n",
       "      <td>http://www.feltzprintingservice.com</td>\n",
       "    </tr>\n",
       "    <tr>\n",
       "      <th>4</th>\n",
       "      <td>Donette</td>\n",
       "      <td>Foller</td>\n",
       "      <td>Printing Dimensions</td>\n",
       "      <td>34 Center St</td>\n",
       "      <td>Hamilton</td>\n",
       "      <td>Butler</td>\n",
       "      <td>OH</td>\n",
       "      <td>45011</td>\n",
       "      <td>513-570-1893</td>\n",
       "      <td>513-549-4561</td>\n",
       "      <td>donette.foller@cox.net</td>\n",
       "      <td>http://www.printingdimensions.com</td>\n",
       "    </tr>\n",
       "    <tr>\n",
       "      <th>...</th>\n",
       "      <td>...</td>\n",
       "      <td>...</td>\n",
       "      <td>...</td>\n",
       "      <td>...</td>\n",
       "      <td>...</td>\n",
       "      <td>...</td>\n",
       "      <td>...</td>\n",
       "      <td>...</td>\n",
       "      <td>...</td>\n",
       "      <td>...</td>\n",
       "      <td>...</td>\n",
       "      <td>...</td>\n",
       "    </tr>\n",
       "    <tr>\n",
       "      <th>495</th>\n",
       "      <td>Brittni</td>\n",
       "      <td>Gillaspie</td>\n",
       "      <td>Inner Label</td>\n",
       "      <td>67 Rv Cent</td>\n",
       "      <td>Boise</td>\n",
       "      <td>Ada</td>\n",
       "      <td>ID</td>\n",
       "      <td>83709</td>\n",
       "      <td>208-709-1235</td>\n",
       "      <td>208-206-9848</td>\n",
       "      <td>bgillaspie@gillaspie.com</td>\n",
       "      <td>http://www.innerlabel.com</td>\n",
       "    </tr>\n",
       "    <tr>\n",
       "      <th>496</th>\n",
       "      <td>Raylene</td>\n",
       "      <td>Kampa</td>\n",
       "      <td>Hermar Inc</td>\n",
       "      <td>2 Sw Nyberg Rd</td>\n",
       "      <td>Elkhart</td>\n",
       "      <td>Elkhart</td>\n",
       "      <td>IN</td>\n",
       "      <td>46514</td>\n",
       "      <td>574-499-1454</td>\n",
       "      <td>574-330-1884</td>\n",
       "      <td>rkampa@kampa.org</td>\n",
       "      <td>http://www.hermarinc.com</td>\n",
       "    </tr>\n",
       "    <tr>\n",
       "      <th>497</th>\n",
       "      <td>Flo</td>\n",
       "      <td>Bookamer</td>\n",
       "      <td>Simonton Howe &amp; Schneider Pc</td>\n",
       "      <td>89992 E 15th St</td>\n",
       "      <td>Alliance</td>\n",
       "      <td>Box Butte</td>\n",
       "      <td>NE</td>\n",
       "      <td>69301</td>\n",
       "      <td>308-726-2182</td>\n",
       "      <td>308-250-6987</td>\n",
       "      <td>flo.bookamer@cox.net</td>\n",
       "      <td>http://www.simontonhoweschneiderpc.com</td>\n",
       "    </tr>\n",
       "    <tr>\n",
       "      <th>498</th>\n",
       "      <td>Jani</td>\n",
       "      <td>Biddy</td>\n",
       "      <td>Warehouse Office &amp; Paper Prod</td>\n",
       "      <td>61556 W 20th Ave</td>\n",
       "      <td>Seattle</td>\n",
       "      <td>King</td>\n",
       "      <td>WA</td>\n",
       "      <td>98104</td>\n",
       "      <td>206-711-6498</td>\n",
       "      <td>206-395-6284</td>\n",
       "      <td>jbiddy@yahoo.com</td>\n",
       "      <td>http://www.warehouseofficepaperprod.com</td>\n",
       "    </tr>\n",
       "    <tr>\n",
       "      <th>499</th>\n",
       "      <td>Chauncey</td>\n",
       "      <td>Motley</td>\n",
       "      <td>Affiliated With Travelodge</td>\n",
       "      <td>63 E Aurora Dr</td>\n",
       "      <td>Orlando</td>\n",
       "      <td>Orange</td>\n",
       "      <td>FL</td>\n",
       "      <td>32804</td>\n",
       "      <td>407-413-4842</td>\n",
       "      <td>407-557-8857</td>\n",
       "      <td>chauncey_motley@aol.com</td>\n",
       "      <td>http://www.affiliatedwithtravelodge.com</td>\n",
       "    </tr>\n",
       "  </tbody>\n",
       "</table>\n",
       "<p>500 rows × 12 columns</p>\n",
       "</div>"
      ],
      "text/plain": [
       "    first_name  last_name                   company_name  \\\n",
       "0        James       Butt              Benton, John B Jr   \n",
       "1    Josephine    Darakjy          Chanay, Jeffrey A Esq   \n",
       "2          Art     Venere            Chemel, James L Cpa   \n",
       "3        Lenna   Paprocki         Feltz Printing Service   \n",
       "4      Donette     Foller            Printing Dimensions   \n",
       "..         ...        ...                            ...   \n",
       "495    Brittni  Gillaspie                    Inner Label   \n",
       "496    Raylene      Kampa                     Hermar Inc   \n",
       "497        Flo   Bookamer   Simonton Howe & Schneider Pc   \n",
       "498       Jani      Biddy  Warehouse Office & Paper Prod   \n",
       "499   Chauncey     Motley     Affiliated With Travelodge   \n",
       "\n",
       "                  address         city      county state    zip        phone1  \\\n",
       "0      6649 N Blue Gum St  New Orleans     Orleans    LA  70116  504-621-8927   \n",
       "1     4 B Blue Ridge Blvd     Brighton  Livingston    MI  48116  810-292-9388   \n",
       "2    8 W Cerritos Ave #54   Bridgeport  Gloucester    NJ   8014  856-636-8749   \n",
       "3             639 Main St    Anchorage   Anchorage    AK  99501  907-385-4412   \n",
       "4            34 Center St     Hamilton      Butler    OH  45011  513-570-1893   \n",
       "..                    ...          ...         ...   ...    ...           ...   \n",
       "495            67 Rv Cent        Boise         Ada    ID  83709  208-709-1235   \n",
       "496        2 Sw Nyberg Rd      Elkhart     Elkhart    IN  46514  574-499-1454   \n",
       "497       89992 E 15th St     Alliance   Box Butte    NE  69301  308-726-2182   \n",
       "498      61556 W 20th Ave      Seattle        King    WA  98104  206-711-6498   \n",
       "499        63 E Aurora Dr      Orlando      Orange    FL  32804  407-413-4842   \n",
       "\n",
       "           phone2                          email  \\\n",
       "0    504-845-1427                jbutt@gmail.com   \n",
       "1    810-374-9840  josephine_darakjy@darakjy.org   \n",
       "2    856-264-4130                 art@venere.org   \n",
       "3    907-921-2010          lpaprocki@hotmail.com   \n",
       "4    513-549-4561         donette.foller@cox.net   \n",
       "..            ...                            ...   \n",
       "495  208-206-9848       bgillaspie@gillaspie.com   \n",
       "496  574-330-1884               rkampa@kampa.org   \n",
       "497  308-250-6987           flo.bookamer@cox.net   \n",
       "498  206-395-6284               jbiddy@yahoo.com   \n",
       "499  407-557-8857        chauncey_motley@aol.com   \n",
       "\n",
       "                                         web  \n",
       "0               http://www.bentonjohnbjr.com  \n",
       "1           http://www.chanayjeffreyaesq.com  \n",
       "2             http://www.chemeljameslcpa.com  \n",
       "3        http://www.feltzprintingservice.com  \n",
       "4          http://www.printingdimensions.com  \n",
       "..                                       ...  \n",
       "495                http://www.innerlabel.com  \n",
       "496                 http://www.hermarinc.com  \n",
       "497   http://www.simontonhoweschneiderpc.com  \n",
       "498  http://www.warehouseofficepaperprod.com  \n",
       "499  http://www.affiliatedwithtravelodge.com  \n",
       "\n",
       "[500 rows x 12 columns]"
      ]
     },
     "execution_count": 6,
     "metadata": {},
     "output_type": "execute_result"
    }
   ],
   "source": [
    "df = pd.read_csv(r'C:\\Users\\Saanvi Gupta\\Desktop\\NumpyProjects\\test.csv')\n",
    "df"
   ]
  },
  {
   "cell_type": "markdown",
   "id": "fc06e7bb",
   "metadata": {},
   "source": [
    "## Dataframe to csv"
   ]
  },
  {
   "cell_type": "code",
   "execution_count": 7,
   "id": "2f52b94c",
   "metadata": {},
   "outputs": [],
   "source": [
    "df.to_csv('friends.csv',index=False)"
   ]
  },
  {
   "cell_type": "code",
   "execution_count": 8,
   "id": "bdad2aea",
   "metadata": {},
   "outputs": [
    {
     "data": {
      "text/html": [
       "<div>\n",
       "<style scoped>\n",
       "    .dataframe tbody tr th:only-of-type {\n",
       "        vertical-align: middle;\n",
       "    }\n",
       "\n",
       "    .dataframe tbody tr th {\n",
       "        vertical-align: top;\n",
       "    }\n",
       "\n",
       "    .dataframe thead th {\n",
       "        text-align: right;\n",
       "    }\n",
       "</style>\n",
       "<table border=\"1\" class=\"dataframe\">\n",
       "  <thead>\n",
       "    <tr style=\"text-align: right;\">\n",
       "      <th></th>\n",
       "      <th>zip</th>\n",
       "    </tr>\n",
       "  </thead>\n",
       "  <tbody>\n",
       "    <tr>\n",
       "      <th>count</th>\n",
       "      <td>500.00000</td>\n",
       "    </tr>\n",
       "    <tr>\n",
       "      <th>mean</th>\n",
       "      <td>47496.45200</td>\n",
       "    </tr>\n",
       "    <tr>\n",
       "      <th>std</th>\n",
       "      <td>32868.81793</td>\n",
       "    </tr>\n",
       "    <tr>\n",
       "      <th>min</th>\n",
       "      <td>1581.00000</td>\n",
       "    </tr>\n",
       "    <tr>\n",
       "      <th>25%</th>\n",
       "      <td>16501.75000</td>\n",
       "    </tr>\n",
       "    <tr>\n",
       "      <th>50%</th>\n",
       "      <td>44139.00000</td>\n",
       "    </tr>\n",
       "    <tr>\n",
       "      <th>75%</th>\n",
       "      <td>79971.25000</td>\n",
       "    </tr>\n",
       "    <tr>\n",
       "      <th>max</th>\n",
       "      <td>99712.00000</td>\n",
       "    </tr>\n",
       "  </tbody>\n",
       "</table>\n",
       "</div>"
      ],
      "text/plain": [
       "               zip\n",
       "count    500.00000\n",
       "mean   47496.45200\n",
       "std    32868.81793\n",
       "min     1581.00000\n",
       "25%    16501.75000\n",
       "50%    44139.00000\n",
       "75%    79971.25000\n",
       "max    99712.00000"
      ]
     },
     "execution_count": 8,
     "metadata": {},
     "output_type": "execute_result"
    }
   ],
   "source": [
    "df.describe()"
   ]
  },
  {
   "cell_type": "code",
   "execution_count": 9,
   "id": "a52e76e4",
   "metadata": {},
   "outputs": [
    {
     "data": {
      "text/html": [
       "<div>\n",
       "<style scoped>\n",
       "    .dataframe tbody tr th:only-of-type {\n",
       "        vertical-align: middle;\n",
       "    }\n",
       "\n",
       "    .dataframe tbody tr th {\n",
       "        vertical-align: top;\n",
       "    }\n",
       "\n",
       "    .dataframe thead th {\n",
       "        text-align: right;\n",
       "    }\n",
       "</style>\n",
       "<table border=\"1\" class=\"dataframe\">\n",
       "  <thead>\n",
       "    <tr style=\"text-align: right;\">\n",
       "      <th></th>\n",
       "      <th>first_name</th>\n",
       "      <th>last_name</th>\n",
       "      <th>company_name</th>\n",
       "      <th>address</th>\n",
       "      <th>city</th>\n",
       "      <th>county</th>\n",
       "      <th>state</th>\n",
       "      <th>zip</th>\n",
       "      <th>phone1</th>\n",
       "      <th>phone2</th>\n",
       "      <th>email</th>\n",
       "      <th>web</th>\n",
       "    </tr>\n",
       "  </thead>\n",
       "  <tbody>\n",
       "    <tr>\n",
       "      <th>0</th>\n",
       "      <td>James</td>\n",
       "      <td>Butt</td>\n",
       "      <td>Benton, John B Jr</td>\n",
       "      <td>6649 N Blue Gum St</td>\n",
       "      <td>New Orleans</td>\n",
       "      <td>Orleans</td>\n",
       "      <td>LA</td>\n",
       "      <td>70116</td>\n",
       "      <td>504-621-8927</td>\n",
       "      <td>504-845-1427</td>\n",
       "      <td>jbutt@gmail.com</td>\n",
       "      <td>http://www.bentonjohnbjr.com</td>\n",
       "    </tr>\n",
       "    <tr>\n",
       "      <th>1</th>\n",
       "      <td>Josephine</td>\n",
       "      <td>Darakjy</td>\n",
       "      <td>Chanay, Jeffrey A Esq</td>\n",
       "      <td>4 B Blue Ridge Blvd</td>\n",
       "      <td>Brighton</td>\n",
       "      <td>Livingston</td>\n",
       "      <td>MI</td>\n",
       "      <td>48116</td>\n",
       "      <td>810-292-9388</td>\n",
       "      <td>810-374-9840</td>\n",
       "      <td>josephine_darakjy@darakjy.org</td>\n",
       "      <td>http://www.chanayjeffreyaesq.com</td>\n",
       "    </tr>\n",
       "    <tr>\n",
       "      <th>2</th>\n",
       "      <td>Art</td>\n",
       "      <td>Venere</td>\n",
       "      <td>Chemel, James L Cpa</td>\n",
       "      <td>8 W Cerritos Ave #54</td>\n",
       "      <td>Bridgeport</td>\n",
       "      <td>Gloucester</td>\n",
       "      <td>NJ</td>\n",
       "      <td>8014</td>\n",
       "      <td>856-636-8749</td>\n",
       "      <td>856-264-4130</td>\n",
       "      <td>art@venere.org</td>\n",
       "      <td>http://www.chemeljameslcpa.com</td>\n",
       "    </tr>\n",
       "    <tr>\n",
       "      <th>3</th>\n",
       "      <td>Lenna</td>\n",
       "      <td>Paprocki</td>\n",
       "      <td>Feltz Printing Service</td>\n",
       "      <td>639 Main St</td>\n",
       "      <td>Anchorage</td>\n",
       "      <td>Anchorage</td>\n",
       "      <td>AK</td>\n",
       "      <td>99501</td>\n",
       "      <td>907-385-4412</td>\n",
       "      <td>907-921-2010</td>\n",
       "      <td>lpaprocki@hotmail.com</td>\n",
       "      <td>http://www.feltzprintingservice.com</td>\n",
       "    </tr>\n",
       "    <tr>\n",
       "      <th>4</th>\n",
       "      <td>Donette</td>\n",
       "      <td>Foller</td>\n",
       "      <td>Printing Dimensions</td>\n",
       "      <td>34 Center St</td>\n",
       "      <td>Hamilton</td>\n",
       "      <td>Butler</td>\n",
       "      <td>OH</td>\n",
       "      <td>45011</td>\n",
       "      <td>513-570-1893</td>\n",
       "      <td>513-549-4561</td>\n",
       "      <td>donette.foller@cox.net</td>\n",
       "      <td>http://www.printingdimensions.com</td>\n",
       "    </tr>\n",
       "  </tbody>\n",
       "</table>\n",
       "</div>"
      ],
      "text/plain": [
       "  first_name last_name            company_name               address  \\\n",
       "0      James      Butt       Benton, John B Jr    6649 N Blue Gum St   \n",
       "1  Josephine   Darakjy   Chanay, Jeffrey A Esq   4 B Blue Ridge Blvd   \n",
       "2        Art    Venere     Chemel, James L Cpa  8 W Cerritos Ave #54   \n",
       "3      Lenna  Paprocki  Feltz Printing Service           639 Main St   \n",
       "4    Donette    Foller     Printing Dimensions          34 Center St   \n",
       "\n",
       "          city      county state    zip        phone1        phone2  \\\n",
       "0  New Orleans     Orleans    LA  70116  504-621-8927  504-845-1427   \n",
       "1     Brighton  Livingston    MI  48116  810-292-9388  810-374-9840   \n",
       "2   Bridgeport  Gloucester    NJ   8014  856-636-8749  856-264-4130   \n",
       "3    Anchorage   Anchorage    AK  99501  907-385-4412  907-921-2010   \n",
       "4     Hamilton      Butler    OH  45011  513-570-1893  513-549-4561   \n",
       "\n",
       "                           email                                  web  \n",
       "0                jbutt@gmail.com         http://www.bentonjohnbjr.com  \n",
       "1  josephine_darakjy@darakjy.org     http://www.chanayjeffreyaesq.com  \n",
       "2                 art@venere.org       http://www.chemeljameslcpa.com  \n",
       "3          lpaprocki@hotmail.com  http://www.feltzprintingservice.com  \n",
       "4         donette.foller@cox.net    http://www.printingdimensions.com  "
      ]
     },
     "execution_count": 9,
     "metadata": {},
     "output_type": "execute_result"
    }
   ],
   "source": [
    "df.head()"
   ]
  },
  {
   "cell_type": "code",
   "execution_count": 10,
   "id": "7c1fc04c",
   "metadata": {},
   "outputs": [
    {
     "data": {
      "text/html": [
       "<div>\n",
       "<style scoped>\n",
       "    .dataframe tbody tr th:only-of-type {\n",
       "        vertical-align: middle;\n",
       "    }\n",
       "\n",
       "    .dataframe tbody tr th {\n",
       "        vertical-align: top;\n",
       "    }\n",
       "\n",
       "    .dataframe thead th {\n",
       "        text-align: right;\n",
       "    }\n",
       "</style>\n",
       "<table border=\"1\" class=\"dataframe\">\n",
       "  <thead>\n",
       "    <tr style=\"text-align: right;\">\n",
       "      <th></th>\n",
       "      <th>first_name</th>\n",
       "      <th>last_name</th>\n",
       "      <th>company_name</th>\n",
       "      <th>address</th>\n",
       "      <th>city</th>\n",
       "      <th>county</th>\n",
       "      <th>state</th>\n",
       "      <th>zip</th>\n",
       "      <th>phone1</th>\n",
       "      <th>phone2</th>\n",
       "      <th>email</th>\n",
       "      <th>web</th>\n",
       "    </tr>\n",
       "  </thead>\n",
       "  <tbody>\n",
       "    <tr>\n",
       "      <th>495</th>\n",
       "      <td>Brittni</td>\n",
       "      <td>Gillaspie</td>\n",
       "      <td>Inner Label</td>\n",
       "      <td>67 Rv Cent</td>\n",
       "      <td>Boise</td>\n",
       "      <td>Ada</td>\n",
       "      <td>ID</td>\n",
       "      <td>83709</td>\n",
       "      <td>208-709-1235</td>\n",
       "      <td>208-206-9848</td>\n",
       "      <td>bgillaspie@gillaspie.com</td>\n",
       "      <td>http://www.innerlabel.com</td>\n",
       "    </tr>\n",
       "    <tr>\n",
       "      <th>496</th>\n",
       "      <td>Raylene</td>\n",
       "      <td>Kampa</td>\n",
       "      <td>Hermar Inc</td>\n",
       "      <td>2 Sw Nyberg Rd</td>\n",
       "      <td>Elkhart</td>\n",
       "      <td>Elkhart</td>\n",
       "      <td>IN</td>\n",
       "      <td>46514</td>\n",
       "      <td>574-499-1454</td>\n",
       "      <td>574-330-1884</td>\n",
       "      <td>rkampa@kampa.org</td>\n",
       "      <td>http://www.hermarinc.com</td>\n",
       "    </tr>\n",
       "    <tr>\n",
       "      <th>497</th>\n",
       "      <td>Flo</td>\n",
       "      <td>Bookamer</td>\n",
       "      <td>Simonton Howe &amp; Schneider Pc</td>\n",
       "      <td>89992 E 15th St</td>\n",
       "      <td>Alliance</td>\n",
       "      <td>Box Butte</td>\n",
       "      <td>NE</td>\n",
       "      <td>69301</td>\n",
       "      <td>308-726-2182</td>\n",
       "      <td>308-250-6987</td>\n",
       "      <td>flo.bookamer@cox.net</td>\n",
       "      <td>http://www.simontonhoweschneiderpc.com</td>\n",
       "    </tr>\n",
       "    <tr>\n",
       "      <th>498</th>\n",
       "      <td>Jani</td>\n",
       "      <td>Biddy</td>\n",
       "      <td>Warehouse Office &amp; Paper Prod</td>\n",
       "      <td>61556 W 20th Ave</td>\n",
       "      <td>Seattle</td>\n",
       "      <td>King</td>\n",
       "      <td>WA</td>\n",
       "      <td>98104</td>\n",
       "      <td>206-711-6498</td>\n",
       "      <td>206-395-6284</td>\n",
       "      <td>jbiddy@yahoo.com</td>\n",
       "      <td>http://www.warehouseofficepaperprod.com</td>\n",
       "    </tr>\n",
       "    <tr>\n",
       "      <th>499</th>\n",
       "      <td>Chauncey</td>\n",
       "      <td>Motley</td>\n",
       "      <td>Affiliated With Travelodge</td>\n",
       "      <td>63 E Aurora Dr</td>\n",
       "      <td>Orlando</td>\n",
       "      <td>Orange</td>\n",
       "      <td>FL</td>\n",
       "      <td>32804</td>\n",
       "      <td>407-413-4842</td>\n",
       "      <td>407-557-8857</td>\n",
       "      <td>chauncey_motley@aol.com</td>\n",
       "      <td>http://www.affiliatedwithtravelodge.com</td>\n",
       "    </tr>\n",
       "  </tbody>\n",
       "</table>\n",
       "</div>"
      ],
      "text/plain": [
       "    first_name  last_name                   company_name           address  \\\n",
       "495    Brittni  Gillaspie                    Inner Label        67 Rv Cent   \n",
       "496    Raylene      Kampa                     Hermar Inc    2 Sw Nyberg Rd   \n",
       "497        Flo   Bookamer   Simonton Howe & Schneider Pc   89992 E 15th St   \n",
       "498       Jani      Biddy  Warehouse Office & Paper Prod  61556 W 20th Ave   \n",
       "499   Chauncey     Motley     Affiliated With Travelodge    63 E Aurora Dr   \n",
       "\n",
       "         city     county state    zip        phone1        phone2  \\\n",
       "495     Boise        Ada    ID  83709  208-709-1235  208-206-9848   \n",
       "496   Elkhart    Elkhart    IN  46514  574-499-1454  574-330-1884   \n",
       "497  Alliance  Box Butte    NE  69301  308-726-2182  308-250-6987   \n",
       "498   Seattle       King    WA  98104  206-711-6498  206-395-6284   \n",
       "499   Orlando     Orange    FL  32804  407-413-4842  407-557-8857   \n",
       "\n",
       "                        email                                      web  \n",
       "495  bgillaspie@gillaspie.com                http://www.innerlabel.com  \n",
       "496          rkampa@kampa.org                 http://www.hermarinc.com  \n",
       "497      flo.bookamer@cox.net   http://www.simontonhoweschneiderpc.com  \n",
       "498          jbiddy@yahoo.com  http://www.warehouseofficepaperprod.com  \n",
       "499   chauncey_motley@aol.com  http://www.affiliatedwithtravelodge.com  "
      ]
     },
     "execution_count": 10,
     "metadata": {},
     "output_type": "execute_result"
    }
   ],
   "source": [
    "df.tail()"
   ]
  },
  {
   "cell_type": "code",
   "execution_count": 11,
   "id": "936e69f3",
   "metadata": {},
   "outputs": [
    {
     "data": {
      "text/html": [
       "<div>\n",
       "<style scoped>\n",
       "    .dataframe tbody tr th:only-of-type {\n",
       "        vertical-align: middle;\n",
       "    }\n",
       "\n",
       "    .dataframe tbody tr th {\n",
       "        vertical-align: top;\n",
       "    }\n",
       "\n",
       "    .dataframe thead th {\n",
       "        text-align: right;\n",
       "    }\n",
       "</style>\n",
       "<table border=\"1\" class=\"dataframe\">\n",
       "  <thead>\n",
       "    <tr style=\"text-align: right;\">\n",
       "      <th></th>\n",
       "      <th>first_name</th>\n",
       "      <th>last_name</th>\n",
       "      <th>company_name</th>\n",
       "      <th>address</th>\n",
       "      <th>city</th>\n",
       "      <th>county</th>\n",
       "      <th>state</th>\n",
       "      <th>zip</th>\n",
       "      <th>phone1</th>\n",
       "      <th>phone2</th>\n",
       "      <th>email</th>\n",
       "      <th>web</th>\n",
       "    </tr>\n",
       "  </thead>\n",
       "  <tbody>\n",
       "    <tr>\n",
       "      <th>497</th>\n",
       "      <td>Flo</td>\n",
       "      <td>Bookamer</td>\n",
       "      <td>Simonton Howe &amp; Schneider Pc</td>\n",
       "      <td>89992 E 15th St</td>\n",
       "      <td>Alliance</td>\n",
       "      <td>Box Butte</td>\n",
       "      <td>NE</td>\n",
       "      <td>69301</td>\n",
       "      <td>308-726-2182</td>\n",
       "      <td>308-250-6987</td>\n",
       "      <td>flo.bookamer@cox.net</td>\n",
       "      <td>http://www.simontonhoweschneiderpc.com</td>\n",
       "    </tr>\n",
       "    <tr>\n",
       "      <th>498</th>\n",
       "      <td>Jani</td>\n",
       "      <td>Biddy</td>\n",
       "      <td>Warehouse Office &amp; Paper Prod</td>\n",
       "      <td>61556 W 20th Ave</td>\n",
       "      <td>Seattle</td>\n",
       "      <td>King</td>\n",
       "      <td>WA</td>\n",
       "      <td>98104</td>\n",
       "      <td>206-711-6498</td>\n",
       "      <td>206-395-6284</td>\n",
       "      <td>jbiddy@yahoo.com</td>\n",
       "      <td>http://www.warehouseofficepaperprod.com</td>\n",
       "    </tr>\n",
       "    <tr>\n",
       "      <th>499</th>\n",
       "      <td>Chauncey</td>\n",
       "      <td>Motley</td>\n",
       "      <td>Affiliated With Travelodge</td>\n",
       "      <td>63 E Aurora Dr</td>\n",
       "      <td>Orlando</td>\n",
       "      <td>Orange</td>\n",
       "      <td>FL</td>\n",
       "      <td>32804</td>\n",
       "      <td>407-413-4842</td>\n",
       "      <td>407-557-8857</td>\n",
       "      <td>chauncey_motley@aol.com</td>\n",
       "      <td>http://www.affiliatedwithtravelodge.com</td>\n",
       "    </tr>\n",
       "  </tbody>\n",
       "</table>\n",
       "</div>"
      ],
      "text/plain": [
       "    first_name last_name                   company_name           address  \\\n",
       "497        Flo  Bookamer   Simonton Howe & Schneider Pc   89992 E 15th St   \n",
       "498       Jani     Biddy  Warehouse Office & Paper Prod  61556 W 20th Ave   \n",
       "499   Chauncey    Motley     Affiliated With Travelodge    63 E Aurora Dr   \n",
       "\n",
       "         city     county state    zip        phone1        phone2  \\\n",
       "497  Alliance  Box Butte    NE  69301  308-726-2182  308-250-6987   \n",
       "498   Seattle       King    WA  98104  206-711-6498  206-395-6284   \n",
       "499   Orlando     Orange    FL  32804  407-413-4842  407-557-8857   \n",
       "\n",
       "                       email                                      web  \n",
       "497     flo.bookamer@cox.net   http://www.simontonhoweschneiderpc.com  \n",
       "498         jbiddy@yahoo.com  http://www.warehouseofficepaperprod.com  \n",
       "499  chauncey_motley@aol.com  http://www.affiliatedwithtravelodge.com  "
      ]
     },
     "execution_count": 11,
     "metadata": {},
     "output_type": "execute_result"
    }
   ],
   "source": [
    "df.tail(3)"
   ]
  },
  {
   "cell_type": "markdown",
   "id": "9f601519",
   "metadata": {},
   "source": [
    "# SERIES"
   ]
  },
  {
   "cell_type": "code",
   "execution_count": 2,
   "id": "f060a9b1",
   "metadata": {},
   "outputs": [
    {
     "data": {
      "text/html": [
       "<div>\n",
       "<style scoped>\n",
       "    .dataframe tbody tr th:only-of-type {\n",
       "        vertical-align: middle;\n",
       "    }\n",
       "\n",
       "    .dataframe tbody tr th {\n",
       "        vertical-align: top;\n",
       "    }\n",
       "\n",
       "    .dataframe thead th {\n",
       "        text-align: right;\n",
       "    }\n",
       "</style>\n",
       "<table border=\"1\" class=\"dataframe\">\n",
       "  <thead>\n",
       "    <tr style=\"text-align: right;\">\n",
       "      <th></th>\n",
       "      <th>Names</th>\n",
       "      <th>Marks</th>\n",
       "      <th>Gender</th>\n",
       "    </tr>\n",
       "  </thead>\n",
       "  <tbody>\n",
       "    <tr>\n",
       "      <th>0</th>\n",
       "      <td>Ram</td>\n",
       "      <td>56</td>\n",
       "      <td>male</td>\n",
       "    </tr>\n",
       "    <tr>\n",
       "      <th>1</th>\n",
       "      <td>Rohit</td>\n",
       "      <td>57</td>\n",
       "      <td>male</td>\n",
       "    </tr>\n",
       "    <tr>\n",
       "      <th>2</th>\n",
       "      <td>Suresh</td>\n",
       "      <td>58</td>\n",
       "      <td>male</td>\n",
       "    </tr>\n",
       "    <tr>\n",
       "      <th>3</th>\n",
       "      <td>Ramesh</td>\n",
       "      <td>59</td>\n",
       "      <td>male</td>\n",
       "    </tr>\n",
       "    <tr>\n",
       "      <th>4</th>\n",
       "      <td>Mohit</td>\n",
       "      <td>60</td>\n",
       "      <td>male</td>\n",
       "    </tr>\n",
       "    <tr>\n",
       "      <th>5</th>\n",
       "      <td>Sonali</td>\n",
       "      <td>61</td>\n",
       "      <td>female</td>\n",
       "    </tr>\n",
       "    <tr>\n",
       "      <th>6</th>\n",
       "      <td>Reena</td>\n",
       "      <td>62</td>\n",
       "      <td>female</td>\n",
       "    </tr>\n",
       "    <tr>\n",
       "      <th>7</th>\n",
       "      <td>Soniya</td>\n",
       "      <td>63</td>\n",
       "      <td>female</td>\n",
       "    </tr>\n",
       "  </tbody>\n",
       "</table>\n",
       "</div>"
      ],
      "text/plain": [
       "    Names  Marks  Gender\n",
       "0     Ram     56    male\n",
       "1   Rohit     57    male\n",
       "2  Suresh     58    male\n",
       "3  Ramesh     59    male\n",
       "4   Mohit     60    male\n",
       "5  Sonali     61  female\n",
       "6   Reena     62  female\n",
       "7  Soniya     63  female"
      ]
     },
     "execution_count": 2,
     "metadata": {},
     "output_type": "execute_result"
    }
   ],
   "source": [
    "import pandas as pd\n",
    "dict={'Names':['Ram','Rohit','Suresh','Ramesh','Mohit','Sonali','Reena','Soniya'],\n",
    "     'Marks':[56,57,58,59,60,61,62,63],\n",
    "     'Gender':['male','male','male','male','male','female','female','female']}\n",
    "df1=pd.DataFrame(dict)\n",
    "df1"
   ]
  },
  {
   "cell_type": "markdown",
   "id": "2ce0b832",
   "metadata": {},
   "source": [
    "### First 3 rows of dataframe"
   ]
  },
  {
   "cell_type": "code",
   "execution_count": 3,
   "id": "c26999b4",
   "metadata": {},
   "outputs": [
    {
     "data": {
      "text/html": [
       "<div>\n",
       "<style scoped>\n",
       "    .dataframe tbody tr th:only-of-type {\n",
       "        vertical-align: middle;\n",
       "    }\n",
       "\n",
       "    .dataframe tbody tr th {\n",
       "        vertical-align: top;\n",
       "    }\n",
       "\n",
       "    .dataframe thead th {\n",
       "        text-align: right;\n",
       "    }\n",
       "</style>\n",
       "<table border=\"1\" class=\"dataframe\">\n",
       "  <thead>\n",
       "    <tr style=\"text-align: right;\">\n",
       "      <th></th>\n",
       "      <th>Names</th>\n",
       "      <th>Marks</th>\n",
       "      <th>Gender</th>\n",
       "    </tr>\n",
       "  </thead>\n",
       "  <tbody>\n",
       "    <tr>\n",
       "      <th>0</th>\n",
       "      <td>Ram</td>\n",
       "      <td>56</td>\n",
       "      <td>male</td>\n",
       "    </tr>\n",
       "    <tr>\n",
       "      <th>1</th>\n",
       "      <td>Rohit</td>\n",
       "      <td>57</td>\n",
       "      <td>male</td>\n",
       "    </tr>\n",
       "    <tr>\n",
       "      <th>2</th>\n",
       "      <td>Suresh</td>\n",
       "      <td>58</td>\n",
       "      <td>male</td>\n",
       "    </tr>\n",
       "  </tbody>\n",
       "</table>\n",
       "</div>"
      ],
      "text/plain": [
       "    Names  Marks Gender\n",
       "0     Ram     56   male\n",
       "1   Rohit     57   male\n",
       "2  Suresh     58   male"
      ]
     },
     "execution_count": 3,
     "metadata": {},
     "output_type": "execute_result"
    }
   ],
   "source": [
    "df1.head(3)"
   ]
  },
  {
   "cell_type": "markdown",
   "id": "9e75fd11",
   "metadata": {},
   "source": [
    "### Last 3 rows of dataframe"
   ]
  },
  {
   "cell_type": "code",
   "execution_count": 4,
   "id": "7e8b5d42",
   "metadata": {},
   "outputs": [
    {
     "data": {
      "text/html": [
       "<div>\n",
       "<style scoped>\n",
       "    .dataframe tbody tr th:only-of-type {\n",
       "        vertical-align: middle;\n",
       "    }\n",
       "\n",
       "    .dataframe tbody tr th {\n",
       "        vertical-align: top;\n",
       "    }\n",
       "\n",
       "    .dataframe thead th {\n",
       "        text-align: right;\n",
       "    }\n",
       "</style>\n",
       "<table border=\"1\" class=\"dataframe\">\n",
       "  <thead>\n",
       "    <tr style=\"text-align: right;\">\n",
       "      <th></th>\n",
       "      <th>Names</th>\n",
       "      <th>Marks</th>\n",
       "      <th>Gender</th>\n",
       "    </tr>\n",
       "  </thead>\n",
       "  <tbody>\n",
       "    <tr>\n",
       "      <th>5</th>\n",
       "      <td>Sonali</td>\n",
       "      <td>61</td>\n",
       "      <td>female</td>\n",
       "    </tr>\n",
       "    <tr>\n",
       "      <th>6</th>\n",
       "      <td>Reena</td>\n",
       "      <td>62</td>\n",
       "      <td>female</td>\n",
       "    </tr>\n",
       "    <tr>\n",
       "      <th>7</th>\n",
       "      <td>Soniya</td>\n",
       "      <td>63</td>\n",
       "      <td>female</td>\n",
       "    </tr>\n",
       "  </tbody>\n",
       "</table>\n",
       "</div>"
      ],
      "text/plain": [
       "    Names  Marks  Gender\n",
       "5  Sonali     61  female\n",
       "6   Reena     62  female\n",
       "7  Soniya     63  female"
      ]
     },
     "execution_count": 4,
     "metadata": {},
     "output_type": "execute_result"
    }
   ],
   "source": [
    "df1.tail(3)"
   ]
  },
  {
   "cell_type": "markdown",
   "id": "74542e0f",
   "metadata": {},
   "source": [
    "## Sector vs Index\n",
    "Sector is a column and indexing is every row has a unique index(number/char).\n",
    "Sector is known as 1 object also index is an object of a dataframe.\n",
    "\n",
    "Pandas is a library of python. Within pandas Dataframe is an object. Head and tails are methods."
   ]
  },
  {
   "cell_type": "markdown",
   "id": "545d84d1",
   "metadata": {},
   "source": [
    "## Shape of dataset (Rows and Columns)"
   ]
  },
  {
   "cell_type": "code",
   "execution_count": 7,
   "id": "119d5040",
   "metadata": {},
   "outputs": [
    {
     "name": "stdout",
     "output_type": "stream",
     "text": [
      "(8, 3)\n",
      "No. of Rows:  8\n",
      "No. of Cols:  3\n"
     ]
    }
   ],
   "source": [
    "print(df1.shape)\n",
    "print(\"No. of Rows: \",df1.shape[0])\n",
    "print(\"No. of Cols: \",df1.shape[1])"
   ]
  },
  {
   "cell_type": "markdown",
   "id": "ca51c56d",
   "metadata": {},
   "source": [
    "## Get information about our dataset like total number of rows,cols,datatypes of each col, memory required."
   ]
  },
  {
   "cell_type": "code",
   "execution_count": 8,
   "id": "ad6d4a82",
   "metadata": {},
   "outputs": [
    {
     "name": "stdout",
     "output_type": "stream",
     "text": [
      "<class 'pandas.core.frame.DataFrame'>\n",
      "RangeIndex: 8 entries, 0 to 7\n",
      "Data columns (total 3 columns):\n",
      " #   Column  Non-Null Count  Dtype \n",
      "---  ------  --------------  ----- \n",
      " 0   Names   8 non-null      object\n",
      " 1   Marks   8 non-null      int64 \n",
      " 2   Gender  8 non-null      object\n",
      "dtypes: int64(1), object(2)\n",
      "memory usage: 320.0+ bytes\n"
     ]
    }
   ],
   "source": [
    "df1.info()"
   ]
  },
  {
   "cell_type": "markdown",
   "id": "f4291ab0",
   "metadata": {},
   "source": [
    "## Check null values in the dataset"
   ]
  },
  {
   "cell_type": "code",
   "execution_count": 9,
   "id": "db097fcd",
   "metadata": {},
   "outputs": [
    {
     "data": {
      "text/html": [
       "<div>\n",
       "<style scoped>\n",
       "    .dataframe tbody tr th:only-of-type {\n",
       "        vertical-align: middle;\n",
       "    }\n",
       "\n",
       "    .dataframe tbody tr th {\n",
       "        vertical-align: top;\n",
       "    }\n",
       "\n",
       "    .dataframe thead th {\n",
       "        text-align: right;\n",
       "    }\n",
       "</style>\n",
       "<table border=\"1\" class=\"dataframe\">\n",
       "  <thead>\n",
       "    <tr style=\"text-align: right;\">\n",
       "      <th></th>\n",
       "      <th>Names</th>\n",
       "      <th>Marks</th>\n",
       "      <th>Gender</th>\n",
       "    </tr>\n",
       "  </thead>\n",
       "  <tbody>\n",
       "    <tr>\n",
       "      <th>0</th>\n",
       "      <td>False</td>\n",
       "      <td>False</td>\n",
       "      <td>False</td>\n",
       "    </tr>\n",
       "    <tr>\n",
       "      <th>1</th>\n",
       "      <td>False</td>\n",
       "      <td>False</td>\n",
       "      <td>False</td>\n",
       "    </tr>\n",
       "    <tr>\n",
       "      <th>2</th>\n",
       "      <td>False</td>\n",
       "      <td>False</td>\n",
       "      <td>False</td>\n",
       "    </tr>\n",
       "    <tr>\n",
       "      <th>3</th>\n",
       "      <td>False</td>\n",
       "      <td>False</td>\n",
       "      <td>False</td>\n",
       "    </tr>\n",
       "    <tr>\n",
       "      <th>4</th>\n",
       "      <td>False</td>\n",
       "      <td>False</td>\n",
       "      <td>False</td>\n",
       "    </tr>\n",
       "    <tr>\n",
       "      <th>5</th>\n",
       "      <td>False</td>\n",
       "      <td>False</td>\n",
       "      <td>False</td>\n",
       "    </tr>\n",
       "    <tr>\n",
       "      <th>6</th>\n",
       "      <td>False</td>\n",
       "      <td>False</td>\n",
       "      <td>False</td>\n",
       "    </tr>\n",
       "    <tr>\n",
       "      <th>7</th>\n",
       "      <td>False</td>\n",
       "      <td>False</td>\n",
       "      <td>False</td>\n",
       "    </tr>\n",
       "  </tbody>\n",
       "</table>\n",
       "</div>"
      ],
      "text/plain": [
       "   Names  Marks  Gender\n",
       "0  False  False   False\n",
       "1  False  False   False\n",
       "2  False  False   False\n",
       "3  False  False   False\n",
       "4  False  False   False\n",
       "5  False  False   False\n",
       "6  False  False   False\n",
       "7  False  False   False"
      ]
     },
     "execution_count": 9,
     "metadata": {},
     "output_type": "execute_result"
    }
   ],
   "source": [
    "df1.isnull()"
   ]
  },
  {
   "cell_type": "code",
   "execution_count": 14,
   "id": "6ea2e34d",
   "metadata": {},
   "outputs": [
    {
     "data": {
      "text/plain": [
       "0    0\n",
       "1    0\n",
       "2    0\n",
       "3    0\n",
       "4    0\n",
       "5    0\n",
       "6    0\n",
       "7    0\n",
       "dtype: int64"
      ]
     },
     "execution_count": 14,
     "metadata": {},
     "output_type": "execute_result"
    }
   ],
   "source": [
    "df1.isnull().sum(axis=1)"
   ]
  },
  {
   "cell_type": "markdown",
   "id": "e80d6997",
   "metadata": {},
   "source": [
    "## Get overall statistics about dataframe"
   ]
  },
  {
   "cell_type": "code",
   "execution_count": 17,
   "id": "b10d1387",
   "metadata": {},
   "outputs": [
    {
     "data": {
      "text/html": [
       "<div>\n",
       "<style scoped>\n",
       "    .dataframe tbody tr th:only-of-type {\n",
       "        vertical-align: middle;\n",
       "    }\n",
       "\n",
       "    .dataframe tbody tr th {\n",
       "        vertical-align: top;\n",
       "    }\n",
       "\n",
       "    .dataframe thead th {\n",
       "        text-align: right;\n",
       "    }\n",
       "</style>\n",
       "<table border=\"1\" class=\"dataframe\">\n",
       "  <thead>\n",
       "    <tr style=\"text-align: right;\">\n",
       "      <th></th>\n",
       "      <th>Names</th>\n",
       "      <th>Marks</th>\n",
       "      <th>Gender</th>\n",
       "    </tr>\n",
       "  </thead>\n",
       "  <tbody>\n",
       "    <tr>\n",
       "      <th>count</th>\n",
       "      <td>8</td>\n",
       "      <td>8.00000</td>\n",
       "      <td>8</td>\n",
       "    </tr>\n",
       "    <tr>\n",
       "      <th>unique</th>\n",
       "      <td>8</td>\n",
       "      <td>NaN</td>\n",
       "      <td>2</td>\n",
       "    </tr>\n",
       "    <tr>\n",
       "      <th>top</th>\n",
       "      <td>Ram</td>\n",
       "      <td>NaN</td>\n",
       "      <td>male</td>\n",
       "    </tr>\n",
       "    <tr>\n",
       "      <th>freq</th>\n",
       "      <td>1</td>\n",
       "      <td>NaN</td>\n",
       "      <td>5</td>\n",
       "    </tr>\n",
       "    <tr>\n",
       "      <th>mean</th>\n",
       "      <td>NaN</td>\n",
       "      <td>59.50000</td>\n",
       "      <td>NaN</td>\n",
       "    </tr>\n",
       "    <tr>\n",
       "      <th>std</th>\n",
       "      <td>NaN</td>\n",
       "      <td>2.44949</td>\n",
       "      <td>NaN</td>\n",
       "    </tr>\n",
       "    <tr>\n",
       "      <th>min</th>\n",
       "      <td>NaN</td>\n",
       "      <td>56.00000</td>\n",
       "      <td>NaN</td>\n",
       "    </tr>\n",
       "    <tr>\n",
       "      <th>25%</th>\n",
       "      <td>NaN</td>\n",
       "      <td>57.75000</td>\n",
       "      <td>NaN</td>\n",
       "    </tr>\n",
       "    <tr>\n",
       "      <th>50%</th>\n",
       "      <td>NaN</td>\n",
       "      <td>59.50000</td>\n",
       "      <td>NaN</td>\n",
       "    </tr>\n",
       "    <tr>\n",
       "      <th>75%</th>\n",
       "      <td>NaN</td>\n",
       "      <td>61.25000</td>\n",
       "      <td>NaN</td>\n",
       "    </tr>\n",
       "    <tr>\n",
       "      <th>max</th>\n",
       "      <td>NaN</td>\n",
       "      <td>63.00000</td>\n",
       "      <td>NaN</td>\n",
       "    </tr>\n",
       "  </tbody>\n",
       "</table>\n",
       "</div>"
      ],
      "text/plain": [
       "       Names     Marks Gender\n",
       "count      8   8.00000      8\n",
       "unique     8       NaN      2\n",
       "top      Ram       NaN   male\n",
       "freq       1       NaN      5\n",
       "mean     NaN  59.50000    NaN\n",
       "std      NaN   2.44949    NaN\n",
       "min      NaN  56.00000    NaN\n",
       "25%      NaN  57.75000    NaN\n",
       "50%      NaN  59.50000    NaN\n",
       "75%      NaN  61.25000    NaN\n",
       "max      NaN  63.00000    NaN"
      ]
     },
     "execution_count": 17,
     "metadata": {},
     "output_type": "execute_result"
    }
   ],
   "source": [
    "df1.describe()     #only integer columns \n",
    "df1.describe(include='all')    #all columns whether numeric or alpha"
   ]
  },
  {
   "cell_type": "markdown",
   "id": "ca361472",
   "metadata": {},
   "source": [
    "## Find unique values from gender column"
   ]
  },
  {
   "cell_type": "code",
   "execution_count": 20,
   "id": "dfa504cb",
   "metadata": {},
   "outputs": [
    {
     "data": {
      "text/plain": [
       "array(['male', 'female'], dtype=object)"
      ]
     },
     "execution_count": 20,
     "metadata": {},
     "output_type": "execute_result"
    }
   ],
   "source": [
    "df1['Gender'].unique()"
   ]
  },
  {
   "cell_type": "markdown",
   "id": "0d78d193",
   "metadata": {},
   "source": [
    "## Find no. of unique values from the gender column"
   ]
  },
  {
   "cell_type": "code",
   "execution_count": 24,
   "id": "a52f6ac2",
   "metadata": {},
   "outputs": [
    {
     "data": {
      "text/plain": [
       "2"
      ]
     },
     "execution_count": 24,
     "metadata": {},
     "output_type": "execute_result"
    }
   ],
   "source": [
    "df1['Gender'].nunique()"
   ]
  },
  {
   "cell_type": "markdown",
   "id": "4950c3cd",
   "metadata": {},
   "source": [
    "## Display count of unique values"
   ]
  },
  {
   "cell_type": "code",
   "execution_count": 25,
   "id": "3f08933e",
   "metadata": {},
   "outputs": [
    {
     "data": {
      "text/plain": [
       "male      5\n",
       "female    3\n",
       "Name: Gender, dtype: int64"
      ]
     },
     "execution_count": 25,
     "metadata": {},
     "output_type": "execute_result"
    }
   ],
   "source": [
    "df1['Gender'].value_counts()"
   ]
  },
  {
   "cell_type": "markdown",
   "id": "3cedc8ef",
   "metadata": {},
   "source": [
    "## Find total no of students having marks between 90 to 100 (inclusive) using between method"
   ]
  },
  {
   "cell_type": "code",
   "execution_count": 33,
   "id": "4cff5f78",
   "metadata": {},
   "outputs": [
    {
     "data": {
      "text/html": [
       "<div>\n",
       "<style scoped>\n",
       "    .dataframe tbody tr th:only-of-type {\n",
       "        vertical-align: middle;\n",
       "    }\n",
       "\n",
       "    .dataframe tbody tr th {\n",
       "        vertical-align: top;\n",
       "    }\n",
       "\n",
       "    .dataframe thead th {\n",
       "        text-align: right;\n",
       "    }\n",
       "</style>\n",
       "<table border=\"1\" class=\"dataframe\">\n",
       "  <thead>\n",
       "    <tr style=\"text-align: right;\">\n",
       "      <th></th>\n",
       "      <th>Names</th>\n",
       "      <th>Marks</th>\n",
       "      <th>Gender</th>\n",
       "    </tr>\n",
       "  </thead>\n",
       "  <tbody>\n",
       "    <tr>\n",
       "      <th>0</th>\n",
       "      <td>Ram</td>\n",
       "      <td>56</td>\n",
       "      <td>male</td>\n",
       "    </tr>\n",
       "    <tr>\n",
       "      <th>1</th>\n",
       "      <td>Rohit</td>\n",
       "      <td>57</td>\n",
       "      <td>male</td>\n",
       "    </tr>\n",
       "    <tr>\n",
       "      <th>2</th>\n",
       "      <td>Suresh</td>\n",
       "      <td>58</td>\n",
       "      <td>male</td>\n",
       "    </tr>\n",
       "    <tr>\n",
       "      <th>3</th>\n",
       "      <td>Ramesh</td>\n",
       "      <td>59</td>\n",
       "      <td>male</td>\n",
       "    </tr>\n",
       "    <tr>\n",
       "      <th>4</th>\n",
       "      <td>Mohit</td>\n",
       "      <td>60</td>\n",
       "      <td>male</td>\n",
       "    </tr>\n",
       "  </tbody>\n",
       "</table>\n",
       "</div>"
      ],
      "text/plain": [
       "    Names  Marks Gender\n",
       "0     Ram     56   male\n",
       "1   Rohit     57   male\n",
       "2  Suresh     58   male\n",
       "3  Ramesh     59   male\n",
       "4   Mohit     60   male"
      ]
     },
     "execution_count": 33,
     "metadata": {},
     "output_type": "execute_result"
    }
   ],
   "source": [
    "df1[df1['Marks']>60]\n",
    "df1[(df1['Marks']>=50) & (df1['Marks']<=60)]\n",
    "\n",
    "df1[df1['Marks'].between(50,60)]"
   ]
  },
  {
   "cell_type": "markdown",
   "id": "b111ef08",
   "metadata": {},
   "source": [
    "## Max, Min, Sum, Mean of a column in dataframe"
   ]
  },
  {
   "cell_type": "code",
   "execution_count": 34,
   "id": "ff04f734",
   "metadata": {},
   "outputs": [
    {
     "data": {
      "text/plain": [
       "63"
      ]
     },
     "execution_count": 34,
     "metadata": {},
     "output_type": "execute_result"
    }
   ],
   "source": [
    "df1['Marks'].max()"
   ]
  },
  {
   "cell_type": "code",
   "execution_count": 35,
   "id": "3e08a1df",
   "metadata": {},
   "outputs": [
    {
     "data": {
      "text/plain": [
       "56"
      ]
     },
     "execution_count": 35,
     "metadata": {},
     "output_type": "execute_result"
    }
   ],
   "source": [
    "df1['Marks'].min()"
   ]
  },
  {
   "cell_type": "code",
   "execution_count": 36,
   "id": "fee9be60",
   "metadata": {},
   "outputs": [
    {
     "data": {
      "text/plain": [
       "476"
      ]
     },
     "execution_count": 36,
     "metadata": {},
     "output_type": "execute_result"
    }
   ],
   "source": [
    "df1['Marks'].sum()"
   ]
  },
  {
   "cell_type": "code",
   "execution_count": 37,
   "id": "90180d1d",
   "metadata": {},
   "outputs": [
    {
     "data": {
      "text/plain": [
       "59.5"
      ]
     },
     "execution_count": 37,
     "metadata": {},
     "output_type": "execute_result"
    }
   ],
   "source": [
    "df1['Marks'].mean()"
   ]
  },
  {
   "cell_type": "markdown",
   "id": "a4c81f7e",
   "metadata": {},
   "source": [
    "## Apply Method"
   ]
  },
  {
   "cell_type": "code",
   "execution_count": 39,
   "id": "94be6839",
   "metadata": {},
   "outputs": [
    {
     "data": {
      "text/html": [
       "<div>\n",
       "<style scoped>\n",
       "    .dataframe tbody tr th:only-of-type {\n",
       "        vertical-align: middle;\n",
       "    }\n",
       "\n",
       "    .dataframe tbody tr th {\n",
       "        vertical-align: top;\n",
       "    }\n",
       "\n",
       "    .dataframe thead th {\n",
       "        text-align: right;\n",
       "    }\n",
       "</style>\n",
       "<table border=\"1\" class=\"dataframe\">\n",
       "  <thead>\n",
       "    <tr style=\"text-align: right;\">\n",
       "      <th></th>\n",
       "      <th>Names</th>\n",
       "      <th>Marks</th>\n",
       "      <th>Gender</th>\n",
       "      <th>Half Marks</th>\n",
       "    </tr>\n",
       "  </thead>\n",
       "  <tbody>\n",
       "    <tr>\n",
       "      <th>0</th>\n",
       "      <td>Ram</td>\n",
       "      <td>56</td>\n",
       "      <td>male</td>\n",
       "      <td>28.0</td>\n",
       "    </tr>\n",
       "    <tr>\n",
       "      <th>1</th>\n",
       "      <td>Rohit</td>\n",
       "      <td>57</td>\n",
       "      <td>male</td>\n",
       "      <td>28.5</td>\n",
       "    </tr>\n",
       "    <tr>\n",
       "      <th>2</th>\n",
       "      <td>Suresh</td>\n",
       "      <td>58</td>\n",
       "      <td>male</td>\n",
       "      <td>29.0</td>\n",
       "    </tr>\n",
       "    <tr>\n",
       "      <th>3</th>\n",
       "      <td>Ramesh</td>\n",
       "      <td>59</td>\n",
       "      <td>male</td>\n",
       "      <td>29.5</td>\n",
       "    </tr>\n",
       "    <tr>\n",
       "      <th>4</th>\n",
       "      <td>Mohit</td>\n",
       "      <td>60</td>\n",
       "      <td>male</td>\n",
       "      <td>30.0</td>\n",
       "    </tr>\n",
       "    <tr>\n",
       "      <th>5</th>\n",
       "      <td>Sonali</td>\n",
       "      <td>61</td>\n",
       "      <td>female</td>\n",
       "      <td>30.5</td>\n",
       "    </tr>\n",
       "    <tr>\n",
       "      <th>6</th>\n",
       "      <td>Reena</td>\n",
       "      <td>62</td>\n",
       "      <td>female</td>\n",
       "      <td>31.0</td>\n",
       "    </tr>\n",
       "    <tr>\n",
       "      <th>7</th>\n",
       "      <td>Soniya</td>\n",
       "      <td>63</td>\n",
       "      <td>female</td>\n",
       "      <td>31.5</td>\n",
       "    </tr>\n",
       "  </tbody>\n",
       "</table>\n",
       "</div>"
      ],
      "text/plain": [
       "    Names  Marks  Gender  Half Marks\n",
       "0     Ram     56    male        28.0\n",
       "1   Rohit     57    male        28.5\n",
       "2  Suresh     58    male        29.0\n",
       "3  Ramesh     59    male        29.5\n",
       "4   Mohit     60    male        30.0\n",
       "5  Sonali     61  female        30.5\n",
       "6   Reena     62  female        31.0\n",
       "7  Soniya     63  female        31.5"
      ]
     },
     "execution_count": 39,
     "metadata": {},
     "output_type": "execute_result"
    }
   ],
   "source": [
    "def marks(x):\n",
    "    return x/2\n",
    "\n",
    "#New column half marks using apply method (user defined function)\n",
    "\n",
    "df1['Half Marks']=df1['Marks'].apply(marks)\n",
    "df1"
   ]
  },
  {
   "cell_type": "markdown",
   "id": "413897cd",
   "metadata": {},
   "source": [
    "## Lambda function"
   ]
  },
  {
   "cell_type": "code",
   "execution_count": 40,
   "id": "5fb2b28e",
   "metadata": {},
   "outputs": [
    {
     "data": {
      "text/plain": [
       "0    28.0\n",
       "1    28.5\n",
       "2    29.0\n",
       "3    29.5\n",
       "4    30.0\n",
       "5    30.5\n",
       "6    31.0\n",
       "7    31.5\n",
       "Name: Marks, dtype: float64"
      ]
     },
     "execution_count": 40,
     "metadata": {},
     "output_type": "execute_result"
    }
   ],
   "source": [
    "df1['Marks'].apply(lambda x: x/2)"
   ]
  },
  {
   "cell_type": "markdown",
   "id": "4154bc73",
   "metadata": {},
   "source": [
    "## Map Function"
   ]
  },
  {
   "cell_type": "markdown",
   "id": "b262ab41",
   "metadata": {},
   "source": [
    "map() function returns a map object(which is an iterator) of the results after applying the given function to each item of a given iterable (list, tuple etc.)"
   ]
  },
  {
   "cell_type": "code",
   "execution_count": 44,
   "id": "6c02c9f4",
   "metadata": {},
   "outputs": [
    {
     "data": {
      "text/html": [
       "<div>\n",
       "<style scoped>\n",
       "    .dataframe tbody tr th:only-of-type {\n",
       "        vertical-align: middle;\n",
       "    }\n",
       "\n",
       "    .dataframe tbody tr th {\n",
       "        vertical-align: top;\n",
       "    }\n",
       "\n",
       "    .dataframe thead th {\n",
       "        text-align: right;\n",
       "    }\n",
       "</style>\n",
       "<table border=\"1\" class=\"dataframe\">\n",
       "  <thead>\n",
       "    <tr style=\"text-align: right;\">\n",
       "      <th></th>\n",
       "      <th>Names</th>\n",
       "      <th>Marks</th>\n",
       "      <th>Gender</th>\n",
       "      <th>Half Marks</th>\n",
       "      <th>male_female</th>\n",
       "    </tr>\n",
       "  </thead>\n",
       "  <tbody>\n",
       "    <tr>\n",
       "      <th>0</th>\n",
       "      <td>Ram</td>\n",
       "      <td>56</td>\n",
       "      <td>male</td>\n",
       "      <td>28.0</td>\n",
       "      <td>1</td>\n",
       "    </tr>\n",
       "    <tr>\n",
       "      <th>1</th>\n",
       "      <td>Rohit</td>\n",
       "      <td>57</td>\n",
       "      <td>male</td>\n",
       "      <td>28.5</td>\n",
       "      <td>1</td>\n",
       "    </tr>\n",
       "    <tr>\n",
       "      <th>2</th>\n",
       "      <td>Suresh</td>\n",
       "      <td>58</td>\n",
       "      <td>male</td>\n",
       "      <td>29.0</td>\n",
       "      <td>1</td>\n",
       "    </tr>\n",
       "    <tr>\n",
       "      <th>3</th>\n",
       "      <td>Ramesh</td>\n",
       "      <td>59</td>\n",
       "      <td>male</td>\n",
       "      <td>29.5</td>\n",
       "      <td>1</td>\n",
       "    </tr>\n",
       "    <tr>\n",
       "      <th>4</th>\n",
       "      <td>Mohit</td>\n",
       "      <td>60</td>\n",
       "      <td>male</td>\n",
       "      <td>30.0</td>\n",
       "      <td>1</td>\n",
       "    </tr>\n",
       "    <tr>\n",
       "      <th>5</th>\n",
       "      <td>Sonali</td>\n",
       "      <td>61</td>\n",
       "      <td>female</td>\n",
       "      <td>30.5</td>\n",
       "      <td>0</td>\n",
       "    </tr>\n",
       "    <tr>\n",
       "      <th>6</th>\n",
       "      <td>Reena</td>\n",
       "      <td>62</td>\n",
       "      <td>female</td>\n",
       "      <td>31.0</td>\n",
       "      <td>0</td>\n",
       "    </tr>\n",
       "    <tr>\n",
       "      <th>7</th>\n",
       "      <td>Soniya</td>\n",
       "      <td>63</td>\n",
       "      <td>female</td>\n",
       "      <td>31.5</td>\n",
       "      <td>0</td>\n",
       "    </tr>\n",
       "  </tbody>\n",
       "</table>\n",
       "</div>"
      ],
      "text/plain": [
       "    Names  Marks  Gender  Half Marks  male_female\n",
       "0     Ram     56    male        28.0            1\n",
       "1   Rohit     57    male        28.5            1\n",
       "2  Suresh     58    male        29.0            1\n",
       "3  Ramesh     59    male        29.5            1\n",
       "4   Mohit     60    male        30.0            1\n",
       "5  Sonali     61  female        30.5            0\n",
       "6   Reena     62  female        31.0            0\n",
       "7  Soniya     63  female        31.5            0"
      ]
     },
     "execution_count": 44,
     "metadata": {},
     "output_type": "execute_result"
    }
   ],
   "source": [
    "df1['Names'].apply(len)\n",
    "\n",
    "#Convert male=1 female=0\n",
    "df1['male_female']=df1['Gender'].map({'male':1, 'female':0})\n",
    "df1"
   ]
  },
  {
   "cell_type": "markdown",
   "id": "01de92ab",
   "metadata": {},
   "source": [
    "## Drop Column"
   ]
  },
  {
   "cell_type": "code",
   "execution_count": 48,
   "id": "acfa9d0f",
   "metadata": {},
   "outputs": [
    {
     "data": {
      "text/html": [
       "<div>\n",
       "<style scoped>\n",
       "    .dataframe tbody tr th:only-of-type {\n",
       "        vertical-align: middle;\n",
       "    }\n",
       "\n",
       "    .dataframe tbody tr th {\n",
       "        vertical-align: top;\n",
       "    }\n",
       "\n",
       "    .dataframe thead th {\n",
       "        text-align: right;\n",
       "    }\n",
       "</style>\n",
       "<table border=\"1\" class=\"dataframe\">\n",
       "  <thead>\n",
       "    <tr style=\"text-align: right;\">\n",
       "      <th></th>\n",
       "      <th>Names</th>\n",
       "      <th>Marks</th>\n",
       "      <th>Gender</th>\n",
       "    </tr>\n",
       "  </thead>\n",
       "  <tbody>\n",
       "    <tr>\n",
       "      <th>0</th>\n",
       "      <td>Ram</td>\n",
       "      <td>56</td>\n",
       "      <td>male</td>\n",
       "    </tr>\n",
       "    <tr>\n",
       "      <th>1</th>\n",
       "      <td>Rohit</td>\n",
       "      <td>57</td>\n",
       "      <td>male</td>\n",
       "    </tr>\n",
       "    <tr>\n",
       "      <th>2</th>\n",
       "      <td>Suresh</td>\n",
       "      <td>58</td>\n",
       "      <td>male</td>\n",
       "    </tr>\n",
       "    <tr>\n",
       "      <th>3</th>\n",
       "      <td>Ramesh</td>\n",
       "      <td>59</td>\n",
       "      <td>male</td>\n",
       "    </tr>\n",
       "    <tr>\n",
       "      <th>4</th>\n",
       "      <td>Mohit</td>\n",
       "      <td>60</td>\n",
       "      <td>male</td>\n",
       "    </tr>\n",
       "    <tr>\n",
       "      <th>5</th>\n",
       "      <td>Sonali</td>\n",
       "      <td>61</td>\n",
       "      <td>female</td>\n",
       "    </tr>\n",
       "    <tr>\n",
       "      <th>6</th>\n",
       "      <td>Reena</td>\n",
       "      <td>62</td>\n",
       "      <td>female</td>\n",
       "    </tr>\n",
       "    <tr>\n",
       "      <th>7</th>\n",
       "      <td>Soniya</td>\n",
       "      <td>63</td>\n",
       "      <td>female</td>\n",
       "    </tr>\n",
       "  </tbody>\n",
       "</table>\n",
       "</div>"
      ],
      "text/plain": [
       "    Names  Marks  Gender\n",
       "0     Ram     56    male\n",
       "1   Rohit     57    male\n",
       "2  Suresh     58    male\n",
       "3  Ramesh     59    male\n",
       "4   Mohit     60    male\n",
       "5  Sonali     61  female\n",
       "6   Reena     62  female\n",
       "7  Soniya     63  female"
      ]
     },
     "execution_count": 48,
     "metadata": {},
     "output_type": "execute_result"
    }
   ],
   "source": [
    "df1.drop('male_female', axis=1)\n",
    "df1.drop(['male_female','Half Marks'], axis=1)"
   ]
  },
  {
   "cell_type": "markdown",
   "id": "4883940d",
   "metadata": {},
   "source": [
    "## Sort dataframe as per marks column"
   ]
  },
  {
   "cell_type": "code",
   "execution_count": 51,
   "id": "7fde08be",
   "metadata": {},
   "outputs": [
    {
     "data": {
      "text/html": [
       "<div>\n",
       "<style scoped>\n",
       "    .dataframe tbody tr th:only-of-type {\n",
       "        vertical-align: middle;\n",
       "    }\n",
       "\n",
       "    .dataframe tbody tr th {\n",
       "        vertical-align: top;\n",
       "    }\n",
       "\n",
       "    .dataframe thead th {\n",
       "        text-align: right;\n",
       "    }\n",
       "</style>\n",
       "<table border=\"1\" class=\"dataframe\">\n",
       "  <thead>\n",
       "    <tr style=\"text-align: right;\">\n",
       "      <th></th>\n",
       "      <th>Names</th>\n",
       "      <th>Marks</th>\n",
       "      <th>Gender</th>\n",
       "      <th>Half Marks</th>\n",
       "      <th>male_female</th>\n",
       "    </tr>\n",
       "  </thead>\n",
       "  <tbody>\n",
       "    <tr>\n",
       "      <th>0</th>\n",
       "      <td>Ram</td>\n",
       "      <td>56</td>\n",
       "      <td>male</td>\n",
       "      <td>28.0</td>\n",
       "      <td>1</td>\n",
       "    </tr>\n",
       "    <tr>\n",
       "      <th>1</th>\n",
       "      <td>Rohit</td>\n",
       "      <td>57</td>\n",
       "      <td>male</td>\n",
       "      <td>28.5</td>\n",
       "      <td>1</td>\n",
       "    </tr>\n",
       "    <tr>\n",
       "      <th>2</th>\n",
       "      <td>Suresh</td>\n",
       "      <td>58</td>\n",
       "      <td>male</td>\n",
       "      <td>29.0</td>\n",
       "      <td>1</td>\n",
       "    </tr>\n",
       "    <tr>\n",
       "      <th>3</th>\n",
       "      <td>Ramesh</td>\n",
       "      <td>59</td>\n",
       "      <td>male</td>\n",
       "      <td>29.5</td>\n",
       "      <td>1</td>\n",
       "    </tr>\n",
       "    <tr>\n",
       "      <th>4</th>\n",
       "      <td>Mohit</td>\n",
       "      <td>60</td>\n",
       "      <td>male</td>\n",
       "      <td>30.0</td>\n",
       "      <td>1</td>\n",
       "    </tr>\n",
       "    <tr>\n",
       "      <th>5</th>\n",
       "      <td>Sonali</td>\n",
       "      <td>61</td>\n",
       "      <td>female</td>\n",
       "      <td>30.5</td>\n",
       "      <td>0</td>\n",
       "    </tr>\n",
       "    <tr>\n",
       "      <th>6</th>\n",
       "      <td>Reena</td>\n",
       "      <td>62</td>\n",
       "      <td>female</td>\n",
       "      <td>31.0</td>\n",
       "      <td>0</td>\n",
       "    </tr>\n",
       "    <tr>\n",
       "      <th>7</th>\n",
       "      <td>Soniya</td>\n",
       "      <td>63</td>\n",
       "      <td>female</td>\n",
       "      <td>31.5</td>\n",
       "      <td>0</td>\n",
       "    </tr>\n",
       "  </tbody>\n",
       "</table>\n",
       "</div>"
      ],
      "text/plain": [
       "    Names  Marks  Gender  Half Marks  male_female\n",
       "0     Ram     56    male        28.0            1\n",
       "1   Rohit     57    male        28.5            1\n",
       "2  Suresh     58    male        29.0            1\n",
       "3  Ramesh     59    male        29.5            1\n",
       "4   Mohit     60    male        30.0            1\n",
       "5  Sonali     61  female        30.5            0\n",
       "6   Reena     62  female        31.0            0\n",
       "7  Soniya     63  female        31.5            0"
      ]
     },
     "execution_count": 51,
     "metadata": {},
     "output_type": "execute_result"
    }
   ],
   "source": [
    "df1.sort_values(by='Marks')   #ascending order"
   ]
  },
  {
   "cell_type": "code",
   "execution_count": 52,
   "id": "6c5c172d",
   "metadata": {},
   "outputs": [
    {
     "data": {
      "text/html": [
       "<div>\n",
       "<style scoped>\n",
       "    .dataframe tbody tr th:only-of-type {\n",
       "        vertical-align: middle;\n",
       "    }\n",
       "\n",
       "    .dataframe tbody tr th {\n",
       "        vertical-align: top;\n",
       "    }\n",
       "\n",
       "    .dataframe thead th {\n",
       "        text-align: right;\n",
       "    }\n",
       "</style>\n",
       "<table border=\"1\" class=\"dataframe\">\n",
       "  <thead>\n",
       "    <tr style=\"text-align: right;\">\n",
       "      <th></th>\n",
       "      <th>Names</th>\n",
       "      <th>Marks</th>\n",
       "      <th>Gender</th>\n",
       "      <th>Half Marks</th>\n",
       "      <th>male_female</th>\n",
       "    </tr>\n",
       "  </thead>\n",
       "  <tbody>\n",
       "    <tr>\n",
       "      <th>7</th>\n",
       "      <td>Soniya</td>\n",
       "      <td>63</td>\n",
       "      <td>female</td>\n",
       "      <td>31.5</td>\n",
       "      <td>0</td>\n",
       "    </tr>\n",
       "    <tr>\n",
       "      <th>6</th>\n",
       "      <td>Reena</td>\n",
       "      <td>62</td>\n",
       "      <td>female</td>\n",
       "      <td>31.0</td>\n",
       "      <td>0</td>\n",
       "    </tr>\n",
       "    <tr>\n",
       "      <th>5</th>\n",
       "      <td>Sonali</td>\n",
       "      <td>61</td>\n",
       "      <td>female</td>\n",
       "      <td>30.5</td>\n",
       "      <td>0</td>\n",
       "    </tr>\n",
       "    <tr>\n",
       "      <th>4</th>\n",
       "      <td>Mohit</td>\n",
       "      <td>60</td>\n",
       "      <td>male</td>\n",
       "      <td>30.0</td>\n",
       "      <td>1</td>\n",
       "    </tr>\n",
       "    <tr>\n",
       "      <th>3</th>\n",
       "      <td>Ramesh</td>\n",
       "      <td>59</td>\n",
       "      <td>male</td>\n",
       "      <td>29.5</td>\n",
       "      <td>1</td>\n",
       "    </tr>\n",
       "    <tr>\n",
       "      <th>2</th>\n",
       "      <td>Suresh</td>\n",
       "      <td>58</td>\n",
       "      <td>male</td>\n",
       "      <td>29.0</td>\n",
       "      <td>1</td>\n",
       "    </tr>\n",
       "    <tr>\n",
       "      <th>1</th>\n",
       "      <td>Rohit</td>\n",
       "      <td>57</td>\n",
       "      <td>male</td>\n",
       "      <td>28.5</td>\n",
       "      <td>1</td>\n",
       "    </tr>\n",
       "    <tr>\n",
       "      <th>0</th>\n",
       "      <td>Ram</td>\n",
       "      <td>56</td>\n",
       "      <td>male</td>\n",
       "      <td>28.0</td>\n",
       "      <td>1</td>\n",
       "    </tr>\n",
       "  </tbody>\n",
       "</table>\n",
       "</div>"
      ],
      "text/plain": [
       "    Names  Marks  Gender  Half Marks  male_female\n",
       "7  Soniya     63  female        31.5            0\n",
       "6   Reena     62  female        31.0            0\n",
       "5  Sonali     61  female        30.5            0\n",
       "4   Mohit     60    male        30.0            1\n",
       "3  Ramesh     59    male        29.5            1\n",
       "2  Suresh     58    male        29.0            1\n",
       "1   Rohit     57    male        28.5            1\n",
       "0     Ram     56    male        28.0            1"
      ]
     },
     "execution_count": 52,
     "metadata": {},
     "output_type": "execute_result"
    }
   ],
   "source": [
    "df1.sort_values(by='Marks',ascending = False)    #Descending order"
   ]
  },
  {
   "cell_type": "markdown",
   "id": "05bb6679",
   "metadata": {},
   "source": [
    "## Display name & marks of female student"
   ]
  },
  {
   "cell_type": "code",
   "execution_count": 57,
   "id": "1a37521b",
   "metadata": {},
   "outputs": [
    {
     "data": {
      "text/html": [
       "<div>\n",
       "<style scoped>\n",
       "    .dataframe tbody tr th:only-of-type {\n",
       "        vertical-align: middle;\n",
       "    }\n",
       "\n",
       "    .dataframe tbody tr th {\n",
       "        vertical-align: top;\n",
       "    }\n",
       "\n",
       "    .dataframe thead th {\n",
       "        text-align: right;\n",
       "    }\n",
       "</style>\n",
       "<table border=\"1\" class=\"dataframe\">\n",
       "  <thead>\n",
       "    <tr style=\"text-align: right;\">\n",
       "      <th></th>\n",
       "      <th>Names</th>\n",
       "      <th>Marks</th>\n",
       "    </tr>\n",
       "  </thead>\n",
       "  <tbody>\n",
       "    <tr>\n",
       "      <th>5</th>\n",
       "      <td>Sonali</td>\n",
       "      <td>61</td>\n",
       "    </tr>\n",
       "    <tr>\n",
       "      <th>6</th>\n",
       "      <td>Reena</td>\n",
       "      <td>62</td>\n",
       "    </tr>\n",
       "    <tr>\n",
       "      <th>7</th>\n",
       "      <td>Soniya</td>\n",
       "      <td>63</td>\n",
       "    </tr>\n",
       "  </tbody>\n",
       "</table>\n",
       "</div>"
      ],
      "text/plain": [
       "    Names  Marks\n",
       "5  Sonali     61\n",
       "6   Reena     62\n",
       "7  Soniya     63"
      ]
     },
     "execution_count": 57,
     "metadata": {},
     "output_type": "execute_result"
    }
   ],
   "source": [
    "df1[df1['Gender']=='female'][['Names',\"Marks\"]]\n",
    "df1[df1['Gender'].isin(['female'])][['Names',\"Marks\"]]"
   ]
  },
  {
   "cell_type": "code",
   "execution_count": null,
   "id": "524ccf54",
   "metadata": {},
   "outputs": [],
   "source": []
  }
 ],
 "metadata": {
  "kernelspec": {
   "display_name": "Python 3 (ipykernel)",
   "language": "python",
   "name": "python3"
  },
  "language_info": {
   "codemirror_mode": {
    "name": "ipython",
    "version": 3
   },
   "file_extension": ".py",
   "mimetype": "text/x-python",
   "name": "python",
   "nbconvert_exporter": "python",
   "pygments_lexer": "ipython3",
   "version": "3.9.13"
  }
 },
 "nbformat": 4,
 "nbformat_minor": 5
}
