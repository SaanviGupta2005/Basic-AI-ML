{
 "cells": [
  {
   "cell_type": "markdown",
   "id": "b12af3ce",
   "metadata": {},
   "source": [
    "Dependent variable -> Label <br>\n",
    "Independent variable -> Feature <br>\n",
    "\n",
    "If result is dependent on independent variables then it is supervised learning. <br>"
   ]
  },
  {
   "cell_type": "markdown",
   "id": "6268b27c",
   "metadata": {},
   "source": [
    "### What is difference between Supervised Learning and Unsupervised Learning"
   ]
  },
  {
   "cell_type": "markdown",
   "id": "611f0ed7",
   "metadata": {},
   "source": [
    "## Supervised Learning\n",
    "\n",
    "Supervised Learning is where you have both the input variables and the output variable i.e Independent and Dependent variables.\n",
    "and u use an algorithm to learn the mapping function from X to Y and predict the output of the new data.<br><br>\n",
    "Supervised Learning can be further classified as Classification or Regression technique.\n"
   ]
  },
  {
   "cell_type": "markdown",
   "id": "81e313ca",
   "metadata": {},
   "source": [
    "## Regression\n",
    "Regression is a statistic approach used to analyze the relationship between a dependent variable(target/resultant variable) and one or more independent variable.<br>\n",
    "The objective is to determine the most suitable function that characterised the condition between these variables.<br>\n",
    "Regression is a supervised ML technique used to predict the value of the dependent variable or new unseen data.<br>\n",
    "It models the relationship between the input feature and the target variable allowing for the estimation or prediction of numeric values.\n",
    "Regression analysis problem works with if output variable is a real or continuous value such as salary or weight .<br>\n",
    "Many different modules can be used but the simplest is Liner Regression.<br>\n",
    "It tries to fit the data with the best hyperplane which goes through the points.Regression is further categorised into 2 categories:<br>\n",
    "1.) Single Regression<br>\n",
    "2.) Multiple Regression<br>"
   ]
  },
  {
   "cell_type": "markdown",
   "id": "2fadb632",
   "metadata": {},
   "source": [
    "## Single Regression\n",
    "In case of single regression, the output variable is dependent on single input variable. For example-> weight is dependent on height."
   ]
  },
  {
   "cell_type": "markdown",
   "id": "dcec884b",
   "metadata": {},
   "source": [
    "## Multiple Regression\n",
    "In case of Multiple Regression, we have 2 or more than 2 independent variable and our output or target variable is dependent on more than one independent variable.<br>\n",
    "For example: Addition of 2 numbers. In that case, sum is dependent on X and Y independent variable. All project examining the disease of patient are dependent on the symptoms of specific disease."
   ]
  },
  {
   "cell_type": "markdown",
   "id": "715fdd1b",
   "metadata": {},
   "source": [
    "# Linear Regression"
   ]
  },
  {
   "cell_type": "markdown",
   "id": "924af2b3",
   "metadata": {},
   "source": [
    "In Linear Regression, we have same variables dependent or independent. If we raise the amount of independent variables, then dependent variable value will be fluctuate. Such type of relationship where we rise the values of independent variable,it will fluctuate the value of dependent variable."
   ]
  },
  {
   "cell_type": "code",
   "execution_count": null,
   "id": "ef5b1842",
   "metadata": {},
   "outputs": [],
   "source": []
  }
 ],
 "metadata": {
  "kernelspec": {
   "display_name": "Python 3 (ipykernel)",
   "language": "python",
   "name": "python3"
  },
  "language_info": {
   "codemirror_mode": {
    "name": "ipython",
    "version": 3
   },
   "file_extension": ".py",
   "mimetype": "text/x-python",
   "name": "python",
   "nbconvert_exporter": "python",
   "pygments_lexer": "ipython3",
   "version": "3.9.13"
  }
 },
 "nbformat": 4,
 "nbformat_minor": 5
}
